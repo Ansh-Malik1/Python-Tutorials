{
 "cells": [
  {
   "cell_type": "markdown",
   "id": "8a2d0beb",
   "metadata": {},
   "source": [
    "# Intermediate Python"
   ]
  },
  {
   "cell_type": "markdown",
   "id": "2e954bb8",
   "metadata": {},
   "source": [
    "## Lists"
   ]
  },
  {
   "cell_type": "code",
   "execution_count": 2,
   "id": "1dd8b644",
   "metadata": {},
   "outputs": [
    {
     "name": "stdout",
     "output_type": "stream",
     "text": [
      "['Apple', 1, 102, True, 'Mango']\n",
      "[]\n",
      "[]\n"
     ]
    }
   ],
   "source": [
    "# A list is a collection of elements. It is a hetrogeneous collection i.e it can contain different data types.\n",
    "# In python, lists are initialised in square '[]' brackets.\n",
    "# Unlike strings, python lists are mutable that is their value can be updated at any point.\n",
    "# Lists in python have 0 indexing which means that the first element is accesed using '0' index, second using '1' index and so on.\n",
    "# In general we can say that 'nth' element of a list can be accessed using 'n-1' index.\n",
    "\n",
    "# Creating a list with elements in it:\n",
    "mylist = [\"Apple\" , 1 , 102 , True , \"Mango\"]\n",
    "print(mylist)\n",
    "\n",
    "# Creating an empty list so that we can add items later\n",
    "mylist2 = list()\n",
    "print(mylist2)\n",
    "\n",
    "# Creating empty list way 2:\n",
    "mylist3=[]\n",
    "print(mylist3)"
   ]
  },
  {
   "cell_type": "markdown",
   "id": "e9a541c1",
   "metadata": {},
   "source": [
    "### Accessing elements"
   ]
  },
  {
   "cell_type": "code",
   "execution_count": 4,
   "id": "90c40518",
   "metadata": {},
   "outputs": [
    {
     "name": "stdout",
     "output_type": "stream",
     "text": [
      "ansh\n",
      "29\n",
      "[1, 'ansh', True, 'malik', False]\n",
      "[29, 93, 'abc']\n",
      "[1, True, False, 93]\n"
     ]
    }
   ],
   "source": [
    "# We can accessing a particular element in a list or a part of list (slicing).\n",
    "list_indexing = [1,\"ansh\" , True , \"malik\" , False , 29 , 93 , \"abc\"]\n",
    "print(list_indexing[1])\n",
    "print(list_indexing[5])\n",
    "\n",
    "# Slicing works in same way as in strings\n",
    "print(list_indexing[:5])\n",
    "print(list_indexing[5:])\n",
    "print(list_indexing[::2])"
   ]
  },
  {
   "cell_type": "code",
   "execution_count": 8,
   "id": "3dd7a5c3",
   "metadata": {},
   "outputs": [
    {
     "name": "stdout",
     "output_type": "stream",
     "text": [
      "1 ansh True malik False 29 93 abc \n",
      "------------------------------------\n",
      "1 ansh True malik False 29 93 abc "
     ]
    }
   ],
   "source": [
    "# We can also use for in loop to access elements in a list.\n",
    "for i in list_indexing:\n",
    "    print(i , end=\" \")\n",
    "    \n",
    "print(\"\\n------------------------------------\")\n",
    "\n",
    "for i in range(len(list_indexing)):\n",
    "    print(list_indexing[i], end=\" \")"
   ]
  },
  {
   "cell_type": "markdown",
   "id": "74a0ffc4",
   "metadata": {},
   "source": [
    "### Checking presence of an element in a list"
   ]
  },
  {
   "cell_type": "code",
   "execution_count": 14,
   "id": "0aa5cce3",
   "metadata": {},
   "outputs": [
    {
     "name": "stdout",
     "output_type": "stream",
     "text": [
      "Present\n",
      "\n",
      "------------------------\n",
      "\n",
      "Not present\n"
     ]
    }
   ],
   "source": [
    "# we can check if an element is present in a list or not using 'in'\n",
    "if \"ansh\" in list_indexing:\n",
    "    print(\"Present\")\n",
    "else: print(\"Not present\")\n",
    "    \n",
    "print(\"\\n------------------------\\n\")\n",
    "\n",
    "if \"xyz\" in list_indexing:\n",
    "    print(\"Present\")\n",
    "else: print(\"Not present\")"
   ]
  },
  {
   "cell_type": "markdown",
   "id": "d6aaa099",
   "metadata": {},
   "source": [
    "### List operations"
   ]
  },
  {
   "cell_type": "code",
   "execution_count": 35,
   "id": "765e4dd6",
   "metadata": {},
   "outputs": [
    {
     "name": "stdout",
     "output_type": "stream",
     "text": [
      "['ansh', True, 302, 120, 'malik', True, 'xyz', False, 129, 'A']\n",
      "\n",
      "----------------------\n",
      "\n",
      "['B', 'ansh', True, 302, 120, 'malik', True, 'xyz', False, 129, 'A']\n",
      "['B', 'ansh', True, 302, 'C', 120, 'malik', True, 'xyz', False, 129, 'A']\n",
      "\n",
      "----------------------\n",
      "\n",
      "A\n",
      "['B', 'ansh', True, 302, 'C', 120, 'malik', True, 'xyz', False, 129]\n",
      "\n",
      "----------------------\n",
      "\n",
      "['B', 'ansh', True, 302, 'C', 120, 'malik', True, False, 129]\n",
      "\n",
      "----------------------\n",
      "\n",
      "[129, False, True, 'malik', 120, 'C', 302, True, 'ansh', 'B']\n",
      "\n",
      "----------------------\n",
      "\n",
      "[129, False, True, 'malik', 120, 'C', 302, True, 'ansh', 'B']\n",
      "\n",
      "----------------------\n",
      "\n",
      "[]\n",
      "\n",
      "----------------------\n",
      "\n",
      "[129, False, True, 'malik', 120, 'C', True, 'ansh', 'B']\n",
      "\n",
      "----------------------\n",
      "\n"
     ]
    }
   ],
   "source": [
    "list_operations = [\"ansh\", True , 302 , 120 , \"malik\" , True , \"xyz\" , False , 129 ]\n",
    "\n",
    "# 1. Append : Adds an element to the end of the list |  Syntax : <list name>.append(<value>)\n",
    "list_operations.append('A')\n",
    "print(list_operations)\n",
    "\n",
    "\n",
    "print(\"\\n----------------------\\n\")\n",
    "\n",
    "\n",
    "# 2. Insert : Adds an element to the specfied position | Syntax : <list name>.insert(<index>,<value>)\n",
    "list_operations.insert(0,'B')  # Adds 'B' to 0 index\n",
    "print(list_operations)\n",
    "\n",
    "list_operations.insert(4,'C')\n",
    "print(list_operations)\n",
    "\n",
    "\n",
    "print(\"\\n----------------------\\n\")\n",
    "\n",
    "\n",
    "# 3. POP : Removes last element from the list and returns it | Sytax: <list name>.pop()\n",
    "popped = list_operations.pop() # Can also take index as a parameter and remove the element at that particular index\n",
    "print(popped)\n",
    "print(list_operations)\n",
    "\n",
    "\n",
    "print(\"\\n----------------------\\n\")\n",
    "\n",
    "\n",
    "# 4. Remove : Removes a specific element from the list. | Syntax : <list name>.remove(<value>)\n",
    "list_operations.remove(\"xyz\")\n",
    "print(list_operations)  # If we try to remove an element which is  not in list, we get value error\n",
    "\n",
    "\n",
    "print(\"\\n----------------------\\n\")\n",
    "\n",
    "\n",
    "# 5. Reverse : Reverses a list | Syntax : <list name>.reverse()\n",
    "list_operations.reverse()\n",
    "print(list_operations)\n",
    "\n",
    "\n",
    "print(\"\\n----------------------\\n\")\n",
    "\n",
    "\n",
    "# 6. Copy : Creates a copy of a list | Syntax : <list name>.copy()\n",
    "copy = list_operations.copy()  # A new memory block will be created and 'copy' will refer to this new memory location\n",
    "print(copy)\n",
    "\n",
    "\n",
    "print(\"\\n----------------------\\n\")\n",
    "\n",
    "\n",
    "# 7. Clear : Deletes all the elements present in the list | Syntax : <list name>.clear()\n",
    "copy.clear()\n",
    "print(copy)\n",
    "\n",
    "\n",
    "print(\"\\n----------------------\\n\")\n",
    "\n",
    "\n",
    "# 8. Del : Deletes a specific element in a list | Syntax : del <list name>[<index>]\n",
    "del list_operations[6] # Deletes '302'\n",
    "print(list_operations)\n",
    "\n",
    "\n",
    "print(\"\\n----------------------\\n\")"
   ]
  },
  {
   "cell_type": "code",
   "execution_count": 36,
   "id": "d5b4ce9e",
   "metadata": {},
   "outputs": [
    {
     "name": "stdout",
     "output_type": "stream",
     "text": [
      "['ansh', 123, False, 'malik', 'abc', 1423, 'xyz']\n",
      "False\n"
     ]
    }
   ],
   "source": [
    "list1 = ['ansh' , 123 , True , 'malik' , 'abc' , 1423 , 'xyz']\n",
    "# 9. Updation\n",
    "list1[2] = False\n",
    "print(list1)\n",
    "# Notice how esily we can update the values unlike in string. Therefore we can conclude that lists are 'mutable data types'.\n",
    "\n",
    "# 10. Comparing two lists.\n",
    "compare_list1 = [1,2,3,5,6]\n",
    "compare_list2 = [1,[2,4,5],9]\n",
    "print(compare_list1==compare_list2)\n",
    "#Note : For comparison operators like '<','>,'==' etc, the corresponding elements of the two lists must be of comparable types, else error will occur. "
   ]
  },
  {
   "cell_type": "code",
   "execution_count": 37,
   "id": "5c3bb961",
   "metadata": {},
   "outputs": [
    {
     "name": "stdout",
     "output_type": "stream",
     "text": [
      "Maximum number in the list is 987\n",
      "Minimum number in the list is 1\n"
     ]
    }
   ],
   "source": [
    "# We can find maximum and minimum elements in a list without for loops by using 'max' and 'min' functions\n",
    "list1 =[12,134,90,76,987,34,1,34,765,32]\n",
    "print(f\"Maximum number in the list is {max(list1)}\")\n",
    "print(f\"Minimum number in the list is {min(list1)}\")"
   ]
  },
  {
   "cell_type": "code",
   "execution_count": 38,
   "id": "6aba2d96",
   "metadata": {},
   "outputs": [
    {
     "name": "stdout",
     "output_type": "stream",
     "text": [
      "['JavaScript', 'R', 'cpp', 'java', 'python', 'ruby']\n",
      "['cpp', 'java', 'JavaScript', 'python', 'R', 'ruby']\n",
      "[1, 2, 10, 43, 43, 87, 98]\n",
      "[98, 87, 43, 43, 10, 2, 1]\n"
     ]
    }
   ],
   "source": [
    "# Sorting lists in python only works in homogeneous list ie. the list must contain only numbers or only strings.\n",
    "# in case of numbers, sorting is done normally while in case of strings, sorting is done on the basis of ASCII code.\n",
    "\n",
    "str_list = [\"python\" , \"cpp\" , \"ruby\", \"R\" , \"java\" , \"JavaScript\"]\n",
    "str_list.sort()\n",
    "print(str_list) # Due to sorting based on ASCII codes, words starting with capital letters comes first. We can fix this by:-\n",
    "\n",
    "str_list.sort(key=str.lower) # problem solved\n",
    "print(str_list)\n",
    "\n",
    "# Sorting in reverse order: There is a paramter in sort function called 'reverse' we can use this to sort in descending order\n",
    "num_list=[1,43,10,87,98,2,43]\n",
    "num_list.sort()\n",
    "print(num_list)\n",
    "\n",
    "num_list.sort(reverse=True)\n",
    "print(num_list)\n",
    "\n",
    "# Note : The sort function uses 'TIM SORT' which is a combination of merge sort and insertion sort\n",
    "# sorting changes the original list, therefore we must keep it in mind while using the function and create a copy of original list is required."
   ]
  },
  {
   "cell_type": "code",
   "execution_count": 41,
   "id": "20d2d5f1",
   "metadata": {},
   "outputs": [
    {
     "name": "stdout",
     "output_type": "stream",
     "text": [
      "[1, 1, 1, 1, 1, 1, 1, 1, 1, 1]\n",
      "[1, 2, 1, 2, 1, 2]\n",
      "[1, 1, 1, 1, 1, 1, 1, 1, 1, 1, 1, 2, 1, 2, 1, 2]\n",
      "[1, 4, 9, 16, 25, 36, 49, 64]\n"
     ]
    }
   ],
   "source": [
    "# Misc\n",
    "l1 = [1]*10\n",
    "print(l1)\n",
    "\n",
    "l2 = [1,2]*3\n",
    "print(l2)\n",
    "\n",
    "new_list = l1+l2\n",
    "print(new_list)\n",
    "\n",
    "\n",
    "a = [1,2,3,4,5,6,7,8]\n",
    "b=[i*i for i in a]\n",
    "print(b)"
   ]
  },
  {
   "cell_type": "markdown",
   "id": "1dbe3b86",
   "metadata": {},
   "source": [
    "## Tuples\n"
   ]
  },
  {
   "cell_type": "code",
   "execution_count": null,
   "id": "750c57a9",
   "metadata": {},
   "outputs": [],
   "source": [
    "# Tuples are a data type in python. They are ordered , immutable and allows duplicatess. \n",
    "# In python, tuple are initialised using '( )' brackets."
   ]
  },
  {
   "cell_type": "markdown",
   "id": "42530368",
   "metadata": {},
   "source": [
    "### Initialising a tuple"
   ]
  },
  {
   "cell_type": "code",
   "execution_count": 6,
   "id": "92cc3c4c",
   "metadata": {},
   "outputs": [
    {
     "name": "stdout",
     "output_type": "stream",
     "text": [
      "<class 'tuple'>\n",
      "('ansh', 1, 1.21, 3.14, True, 'malik')\n"
     ]
    }
   ],
   "source": [
    "tuple1 = (\"ansh\",1,1.21,3.14 , True , \"malik\")\n",
    "print(type(tuple1))\n",
    "print(tuple1)"
   ]
  },
  {
   "cell_type": "code",
   "execution_count": 10,
   "id": "fc9d143d",
   "metadata": {},
   "outputs": [
    {
     "name": "stdout",
     "output_type": "stream",
     "text": [
      "(1, 2, 3, 4, False, 'a', 'xyz', 1.212)\n"
     ]
    }
   ],
   "source": [
    "myList = [1,2,3,4,False,'a',\"xyz\",1.212]\n",
    "tuple2 = tuple(myList)\n",
    "print(tuple2)"
   ]
  },
  {
   "cell_type": "code",
   "execution_count": 3,
   "id": "690fca30",
   "metadata": {},
   "outputs": [
    {
     "name": "stdout",
     "output_type": "stream",
     "text": [
      "<class 'str'>\n"
     ]
    }
   ],
   "source": [
    "# Note -> If we have only one element in a tuple, the type of that variable will be the same as that of the element.\n",
    "tuple1=(\"Max\")\n",
    "print(type(tuple1))"
   ]
  },
  {
   "cell_type": "code",
   "execution_count": 9,
   "id": "f6762eb0",
   "metadata": {},
   "outputs": [
    {
     "name": "stdout",
     "output_type": "stream",
     "text": [
      "<class 'float'>\n",
      "<class 'tuple'>\n"
     ]
    }
   ],
   "source": [
    "tuple1 = (1.21)\n",
    "print(type(tuple1))\n",
    "\n",
    "# To fix this issue, we use a ',' at the end of the element.\n",
    "\n",
    "tuple1=(1.21,)\n",
    "print(type(tuple1))"
   ]
  },
  {
   "cell_type": "markdown",
   "id": "3ceb9d32",
   "metadata": {},
   "source": [
    "### Accessing elements of a tuple"
   ]
  },
  {
   "cell_type": "code",
   "execution_count": 21,
   "id": "c5517eca",
   "metadata": {},
   "outputs": [
    {
     "name": "stdout",
     "output_type": "stream",
     "text": [
      "1 2 3 4 False a xyz 1.212 \n",
      "-----------------------------------\n",
      "\n",
      "(1, 2, 3, 4, False, 'a', 'xyz', 1.212)\n",
      "(1, 2)\n",
      "(False, 'a', 'xyz')\n",
      "(3, False, 'xyz')\n",
      "(False, 'a', 'xyz')\n",
      "\n",
      "-----------------------------------\n",
      "\n",
      "3\n",
      "1.212\n"
     ]
    }
   ],
   "source": [
    "# We can access elements of a tuple the same way as we do in list.\n",
    "\n",
    "#1. Loops:\n",
    "for i in tuple2:\n",
    "    print(i , end=\" \")\n",
    "    \n",
    "print('\\n-----------------------------------\\n')\n",
    "\n",
    "#2. Slicing\n",
    "print(tuple2[:])\n",
    "print(tuple2[0:2])\n",
    "print(tuple2[4:7])\n",
    "print(tuple2[2:8:2])\n",
    "print(tuple2[-4:-1])\n",
    "\n",
    "print('\\n-----------------------------------\\n')\n",
    "\n",
    "#3. Indexing\n",
    "print(tuple2[2])\n",
    "print(tuple2[-1])"
   ]
  },
  {
   "cell_type": "markdown",
   "id": "82b6e60d",
   "metadata": {},
   "source": [
    "### Tuples are immutable"
   ]
  },
  {
   "cell_type": "code",
   "execution_count": 22,
   "id": "5bbc0741",
   "metadata": {},
   "outputs": [
    {
     "ename": "TypeError",
     "evalue": "'tuple' object does not support item assignment",
     "output_type": "error",
     "traceback": [
      "\u001b[1;31m---------------------------------------------------------------------------\u001b[0m",
      "\u001b[1;31mTypeError\u001b[0m                                 Traceback (most recent call last)",
      "Cell \u001b[1;32mIn[22], line 1\u001b[0m\n\u001b[1;32m----> 1\u001b[0m tuple2[\u001b[38;5;241m2\u001b[39m]\u001b[38;5;241m=\u001b[39m\u001b[38;5;124m\"\u001b[39m\u001b[38;5;124mabc\u001b[39m\u001b[38;5;124m\"\u001b[39m\n",
      "\u001b[1;31mTypeError\u001b[0m: 'tuple' object does not support item assignment"
     ]
    }
   ],
   "source": [
    "tuple2[2]=\"abc\"\n",
    "\n",
    "# The above code will cause an error because tuples are immutable and hence doesn't support item assignment"
   ]
  },
  {
   "cell_type": "markdown",
   "id": "4215c526",
   "metadata": {},
   "source": [
    "### Operations / Fucntions of tuples"
   ]
  },
  {
   "cell_type": "code",
   "execution_count": 23,
   "id": "717c70bb",
   "metadata": {},
   "outputs": [
    {
     "name": "stdout",
     "output_type": "stream",
     "text": [
      "8\n"
     ]
    }
   ],
   "source": [
    "#1. len : gives length of the tuple\n",
    "print(len(tuple2))"
   ]
  },
  {
   "cell_type": "code",
   "execution_count": 28,
   "id": "4adf8c37",
   "metadata": {},
   "outputs": [
    {
     "name": "stdout",
     "output_type": "stream",
     "text": [
      "1\n",
      "1\n",
      "1\n",
      "0\n"
     ]
    }
   ],
   "source": [
    "#2. count : count the occurences of an element in a given tuple\n",
    "print(tuple2.count(False))  \n",
    "print(tuple2.count(True))  # It displays 1 as output because in every none empty tuple, the function returns 1 if True is passec\n",
    "print(tuple2.count('xyz'))\n",
    "print(tuple2.count(\"qweq\"))"
   ]
  },
  {
   "cell_type": "code",
   "execution_count": 31,
   "id": "c72762e1",
   "metadata": {},
   "outputs": [
    {
     "name": "stdout",
     "output_type": "stream",
     "text": [
      "5\n",
      "4\n",
      "0\n"
     ]
    },
    {
     "ename": "ValueError",
     "evalue": "tuple.index(x): x not in tuple",
     "output_type": "error",
     "traceback": [
      "\u001b[1;31m---------------------------------------------------------------------------\u001b[0m",
      "\u001b[1;31mValueError\u001b[0m                                Traceback (most recent call last)",
      "Cell \u001b[1;32mIn[31], line 5\u001b[0m\n\u001b[0;32m      3\u001b[0m \u001b[38;5;28mprint\u001b[39m(tuple2\u001b[38;5;241m.\u001b[39mindex(\u001b[38;5;28;01mFalse\u001b[39;00m))\n\u001b[0;32m      4\u001b[0m \u001b[38;5;28mprint\u001b[39m(tuple2\u001b[38;5;241m.\u001b[39mindex(\u001b[38;5;28;01mTrue\u001b[39;00m))  \u001b[38;5;66;03m# Will return 0 if it is not present.\u001b[39;00m\n\u001b[1;32m----> 5\u001b[0m \u001b[38;5;28mprint\u001b[39m(tuple2\u001b[38;5;241m.\u001b[39mindex(\u001b[38;5;124m'\u001b[39m\u001b[38;5;124mc\u001b[39m\u001b[38;5;124m'\u001b[39m))\n",
      "\u001b[1;31mValueError\u001b[0m: tuple.index(x): x not in tuple"
     ]
    }
   ],
   "source": [
    "#3. index : returns first occuring of an element\n",
    "print(tuple2.index('a'))\n",
    "print(tuple2.index(False))\n",
    "print(tuple2.index(True))  # Will return 0 if it is not present.\n",
    "print(tuple2.index('c'))  # Will throw an error because the element is not present in the tuple"
   ]
  },
  {
   "cell_type": "code",
   "execution_count": 34,
   "id": "7ce41c0e",
   "metadata": {},
   "outputs": [
    {
     "name": "stdout",
     "output_type": "stream",
     "text": [
      "ansh\n",
      "Delhi\n",
      "19\n",
      "('ansh', 19, 'Delhi')\n"
     ]
    }
   ],
   "source": [
    "#4 . \n",
    "myTuple = \"ansh\" , 19 , \"Delhi\"\n",
    "name , age , city = myTuple  # The no of variables must be equal to the number of elements of the tuple\n",
    "print(name)\n",
    "print(city)\n",
    "print(age)\n",
    "print(myTuple)\n"
   ]
  },
  {
   "cell_type": "code",
   "execution_count": 39,
   "id": "3efff7d6",
   "metadata": {},
   "outputs": [
    {
     "name": "stdout",
     "output_type": "stream",
     "text": [
      "1\n",
      "8\n",
      "9\n",
      "[2, 3, 4, 5, 6, 7]\n"
     ]
    }
   ],
   "source": [
    "#5.\n",
    "my_tuple = 1,2,3,4,5,6,7,8,9\n",
    "i1 , *i2 , i3 , i4 = my_tuple\n",
    "print(i1)  # First element\n",
    "print(i3)  # Second last element\n",
    "print(i4)  # Last element\n",
    "print(i2)  # remaining elements\n",
    "\n",
    "# Note we can not have more than 1 'starred' variable\n",
    "# Eg: i1 , *i2 , i3 , i4 , *i5 , i6 = my_tuple is invalid "
   ]
  },
  {
   "cell_type": "markdown",
   "id": "7a122af3",
   "metadata": {},
   "source": [
    "### Lists v/s Tuples"
   ]
  },
  {
   "cell_type": "code",
   "execution_count": 45,
   "id": "ab3f85b6",
   "metadata": {},
   "outputs": [
    {
     "name": "stdout",
     "output_type": "stream",
     "text": [
      "104 bytes\n",
      "120 bytes\n",
      "0.00015249999705702066\n",
      "0.0009120000177063048\n"
     ]
    }
   ],
   "source": [
    "# Tuples are more memory effecient than lists.\n",
    "import sys\n",
    "t1 = (1,2,3,\"ansh\",\"malik\",True , 'a' , 3.14)\n",
    "l1 = [1,2,3,\"ansh\",\"malik\",True , 'a' , 3.14]\n",
    "\n",
    "print(sys.getsizeof(t1),\"bytes\")\n",
    "print(sys.getsizeof(l1),\"bytes\")\n",
    "# Notice how list takes more space than tuples.\n",
    "\n",
    "# Tuples are more time effecient too..\n",
    "import timeit\n",
    "print(timeit.timeit(stmt=\"(1,2,3,'ansh','malik',True , 'a' , 3.14)\",number=10000))\n",
    "print(timeit.timeit(stmt=\"[1,2,3,'ansh','malik',True , 'a' , 3.14]\",number=10000))\n",
    "# Notice how list takes more time than tuples.\n",
    "\n",
    "# But we also know that lists are mutable and tuples are not. Therefore we must chose between the two depending on the use case."
   ]
  }
 ],
 "metadata": {
  "kernelspec": {
   "display_name": "Python 3 (ipykernel)",
   "language": "python",
   "name": "python3"
  },
  "language_info": {
   "codemirror_mode": {
    "name": "ipython",
    "version": 3
   },
   "file_extension": ".py",
   "mimetype": "text/x-python",
   "name": "python",
   "nbconvert_exporter": "python",
   "pygments_lexer": "ipython3",
   "version": "3.11.5"
  }
 },
 "nbformat": 4,
 "nbformat_minor": 5
}
