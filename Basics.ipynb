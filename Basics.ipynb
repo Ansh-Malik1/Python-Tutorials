{
 "cells": [
  {
   "cell_type": "markdown",
   "id": "734680ee",
   "metadata": {},
   "source": [
    "# Basics"
   ]
  },
  {
   "cell_type": "markdown",
   "id": "ae428ad2",
   "metadata": {},
   "source": [
    "## Defining Variables"
   ]
  },
  {
   "cell_type": "code",
   "execution_count": 1,
   "id": "8b8dfc59",
   "metadata": {},
   "outputs": [
    {
     "data": {
      "text/plain": [
       "'ansh'"
      ]
     },
     "execution_count": 1,
     "metadata": {},
     "output_type": "execute_result"
    }
   ],
   "source": [
    "a  = 'ansh'\n",
    "a"
   ]
  },
  {
   "cell_type": "code",
   "execution_count": 2,
   "id": "da0ea8e4",
   "metadata": {},
   "outputs": [
    {
     "data": {
      "text/plain": [
       "2"
      ]
     },
     "execution_count": 2,
     "metadata": {},
     "output_type": "execute_result"
    }
   ],
   "source": [
    "b = 2\n",
    "b"
   ]
  },
  {
   "cell_type": "code",
   "execution_count": 3,
   "id": "c98cee5e",
   "metadata": {},
   "outputs": [
    {
     "data": {
      "text/plain": [
       "12.23"
      ]
     },
     "execution_count": 3,
     "metadata": {},
     "output_type": "execute_result"
    }
   ],
   "source": [
    "c = 12.230\n",
    "c"
   ]
  },
  {
   "cell_type": "markdown",
   "id": "02cbdfe1",
   "metadata": {},
   "source": [
    "## Taking Input\n"
   ]
  },
  {
   "cell_type": "code",
   "execution_count": 4,
   "id": "24ded439",
   "metadata": {},
   "outputs": [
    {
     "name": "stdout",
     "output_type": "stream",
     "text": [
      "Enter your name here:Ansh\n"
     ]
    },
    {
     "data": {
      "text/plain": [
       "'Ansh'"
      ]
     },
     "execution_count": 4,
     "metadata": {},
     "output_type": "execute_result"
    }
   ],
   "source": [
    "a = input(\"Enter your name here:\")\n",
    "a"
   ]
  },
  {
   "cell_type": "code",
   "execution_count": 5,
   "id": "a24b8bfe",
   "metadata": {},
   "outputs": [
    {
     "name": "stdout",
     "output_type": "stream",
     "text": [
      "Enter any integer here: 123\n"
     ]
    },
    {
     "data": {
      "text/plain": [
       "123"
      ]
     },
     "execution_count": 5,
     "metadata": {},
     "output_type": "execute_result"
    }
   ],
   "source": [
    "b = int(input(\"Enter any integer here: \"))\n",
    "b\n",
    "\n",
    "## All inputs are type of 'str' by default therefore we need to convert the data type by specifing it."
   ]
  },
  {
   "cell_type": "code",
   "execution_count": 6,
   "id": "3f8f4487",
   "metadata": {},
   "outputs": [
    {
     "name": "stdout",
     "output_type": "stream",
     "text": [
      "Enter any number here:1.2\n"
     ]
    },
    {
     "data": {
      "text/plain": [
       "1.2"
      ]
     },
     "execution_count": 6,
     "metadata": {},
     "output_type": "execute_result"
    }
   ],
   "source": [
    "c = float(input(\"Enter any number here:\"))\n",
    "c"
   ]
  },
  {
   "cell_type": "markdown",
   "id": "5bf92a08",
   "metadata": {},
   "source": [
    "## Data types"
   ]
  },
  {
   "cell_type": "code",
   "execution_count": 7,
   "id": "2a523c25",
   "metadata": {},
   "outputs": [
    {
     "data": {
      "text/plain": [
       "str"
      ]
     },
     "execution_count": 7,
     "metadata": {},
     "output_type": "execute_result"
    }
   ],
   "source": [
    "name = \"ansh\"\n",
    "type(name)"
   ]
  },
  {
   "cell_type": "code",
   "execution_count": 8,
   "id": "e073aca0",
   "metadata": {},
   "outputs": [
    {
     "data": {
      "text/plain": [
       "int"
      ]
     },
     "execution_count": 8,
     "metadata": {},
     "output_type": "execute_result"
    }
   ],
   "source": [
    "num = 123\n",
    "type(num)"
   ]
  },
  {
   "cell_type": "code",
   "execution_count": 9,
   "id": "13dba179",
   "metadata": {},
   "outputs": [
    {
     "name": "stdout",
     "output_type": "stream",
     "text": [
      "True\n"
     ]
    }
   ],
   "source": [
    "print(type(name)==str)"
   ]
  },
  {
   "cell_type": "code",
   "execution_count": 10,
   "id": "4743da3b",
   "metadata": {},
   "outputs": [
    {
     "name": "stdout",
     "output_type": "stream",
     "text": [
      "True\n",
      "False\n",
      "False\n"
     ]
    }
   ],
   "source": [
    "## Using 'isintance'\n",
    "print(isinstance(num , int))  ##isinstance(<variable name> , <dataType to be checked>)\n",
    "print(isinstance(num , str))\n",
    "print(isinstance(num , float))"
   ]
  },
  {
   "cell_type": "code",
   "execution_count": 11,
   "id": "2b315257",
   "metadata": {},
   "outputs": [
    {
     "data": {
      "text/plain": [
       "'\\n    complex for complex numbers\\n    bool for boolean \\n    list for lists\\n    tuple for tuple\\n    range for ranges\\n    dict for dictionaries\\n    set for sets\\n'"
      ]
     },
     "execution_count": 11,
     "metadata": {},
     "output_type": "execute_result"
    }
   ],
   "source": [
    "## Other data types :\n",
    "\n",
    "\"\"\"\n",
    "    complex for complex numbers\n",
    "    bool for boolean \n",
    "    list for lists\n",
    "    tuple for tuple\n",
    "    range for ranges\n",
    "    dict for dictionaries\n",
    "    set for sets\n",
    "\"\"\""
   ]
  },
  {
   "cell_type": "markdown",
   "id": "3ef05759",
   "metadata": {},
   "source": [
    "## Arithmetic Operators"
   ]
  },
  {
   "cell_type": "code",
   "execution_count": 12,
   "id": "1e0b2f68",
   "metadata": {},
   "outputs": [
    {
     "name": "stdout",
     "output_type": "stream",
     "text": [
      "7\n",
      "-1\n",
      "12\n",
      "0.75\n",
      "0\n",
      "3\n",
      "81\n"
     ]
    }
   ],
   "source": [
    "num1 = 3\n",
    "num2 = 4\n",
    "print(num1+num2)\n",
    "print(num1-num2)\n",
    "print(num1*num2)\n",
    "print(num1/num2)  # Normal Division\n",
    "print(num1//num2) #Floor division\n",
    "print(num1%num2) # Gives remainder\n",
    "print(num1**num2) #Exponential operator"
   ]
  },
  {
   "cell_type": "code",
   "execution_count": 13,
   "id": "44a1c1d3",
   "metadata": {},
   "outputs": [
    {
     "name": "stdout",
     "output_type": "stream",
     "text": [
      "12\n"
     ]
    }
   ],
   "source": [
    "num = 4\n",
    "num += 8 # ~ num = num+8\n",
    "print(num)\n",
    "#similarily it can written for other operators as well."
   ]
  },
  {
   "cell_type": "markdown",
   "id": "2f99cdb8",
   "metadata": {},
   "source": [
    "## Comparison Operators"
   ]
  },
  {
   "cell_type": "code",
   "execution_count": 14,
   "id": "fa11aa99",
   "metadata": {},
   "outputs": [
    {
     "name": "stdout",
     "output_type": "stream",
     "text": [
      "False\n",
      "True\n",
      "False\n",
      "False\n",
      "True\n",
      "False\n"
     ]
    }
   ],
   "source": [
    "num1 = 10\n",
    "num2 = 12\n",
    "print(num1>num2)\n",
    "print(num1<num2)\n",
    "print(num1>=num2)\n",
    "print(num1>=num2)\n",
    "print(num1!=num2) #~ num1 not equal to num2 ?\n",
    "print(num1==num2) #~ num1 is equal to num2 ?"
   ]
  },
  {
   "cell_type": "markdown",
   "id": "be993567",
   "metadata": {},
   "source": [
    "## Boolean Operators"
   ]
  },
  {
   "cell_type": "code",
   "execution_count": 15,
   "id": "fc6a9808",
   "metadata": {},
   "outputs": [
    {
     "name": "stdout",
     "output_type": "stream",
     "text": [
      "False\n",
      "False\n",
      "True\n",
      "True\n"
     ]
    }
   ],
   "source": [
    "b1 = True\n",
    "b2 = False\n",
    "print(not b1)\n",
    "print(b1 and b2)\n",
    "print(b1 or b2)\n",
    "print(b1 or b2 or False or 123 or 'dsjnsf')  # This is called concept of short circuiting.\n",
    "#When using or operator , it checks each value , if it gets a True , it will not go ahead to check others.\n"
   ]
  },
  {
   "cell_type": "code",
   "execution_count": 16,
   "id": "4fbf8e4e",
   "metadata": {},
   "outputs": [
    {
     "name": "stdout",
     "output_type": "stream",
     "text": [
      "1\n",
      "False\n",
      "[]\n",
      "abc\n",
      "abc\n"
     ]
    }
   ],
   "source": [
    "print(0 or  1)\n",
    "print([] or False)\n",
    "print(False or [])\n",
    "print(False or 'abc')\n",
    "print('abc' or [])\n",
    "#If two arguments are given in or gate and first is false, then by default it will return second argument.\n",
    "# 0 acts as False and all other numbers (including -ve numbers) are True\n",
    "# Empty datatypes like Lists , Tuples , Strings are false but if they contain any value , they are true."
   ]
  },
  {
   "cell_type": "markdown",
   "id": "064b0c22",
   "metadata": {},
   "source": [
    "## Identity and membership operator"
   ]
  },
  {
   "cell_type": "code",
   "execution_count": 17,
   "id": "84a150c0",
   "metadata": {},
   "outputs": [
    {
     "name": "stdout",
     "output_type": "stream",
     "text": [
      "True\n",
      "False\n",
      "True\n"
     ]
    }
   ],
   "source": [
    "l1= [1,12,3,32]\n",
    "print(1 in l1)\n",
    "print(100 in l1)\n",
    "\n",
    "a = 3\n",
    "b = 3\n",
    "print(a is b)"
   ]
  },
  {
   "cell_type": "markdown",
   "id": "8a1f17d7",
   "metadata": {},
   "source": [
    "## Ternary Operator"
   ]
  },
  {
   "cell_type": "code",
   "execution_count": 18,
   "id": "3a5c5f13",
   "metadata": {},
   "outputs": [
    {
     "name": "stdout",
     "output_type": "stream",
     "text": [
      "yes\n"
     ]
    }
   ],
   "source": [
    "# It is a single line if else statement\n",
    "assumption = True\n",
    "print(\"yes\") if assumption else print(\"no\") #Change value of 'assumption' and then see the output\n",
    "\n",
    "# syntax: <code to be executed if statement 1 is True> if <statement 1> else <code to be executed is statement 1 is false>"
   ]
  },
  {
   "cell_type": "markdown",
   "id": "64eb5602",
   "metadata": {},
   "source": [
    "### Practice Set 1"
   ]
  },
  {
   "cell_type": "code",
   "execution_count": null,
   "id": "c5c7e37e",
   "metadata": {},
   "outputs": [],
   "source": [
    "# Write the following programs : \n",
    "\n",
    "\n",
    "# 1.Write a program to ask user a floating number and print its square.\n",
    "\n",
    "\n",
    "# 2. Write a program to calculate volume and surface area of a sphere. The prgram must ask user for the\n",
    "#    radius.\n",
    "\n",
    "\n",
    "# 3. Write a program that asks user for its height centimetres and convert it to feet and inches.\n",
    "\n",
    "\n",
    "# 4. Write a program to compute simple interest and compound interest. Input all the necessary parameters\n",
    "#    from the user.\n",
    "\n",
    "# 5. Write a python program to convert a temprature in celcius given by user to Fahrenheit."
   ]
  },
  {
   "cell_type": "markdown",
   "id": "15078da2",
   "metadata": {},
   "source": [
    "## Conditional Statements (if-else)"
   ]
  },
  {
   "cell_type": "code",
   "execution_count": 19,
   "id": "c815e590",
   "metadata": {},
   "outputs": [
    {
     "name": "stdout",
     "output_type": "stream",
     "text": [
      "A grade\n"
     ]
    }
   ],
   "source": [
    "# Condtional statements in python are used to run a based on if a condition is true or not.\n",
    "marks=98\n",
    "if(marks>90 and marks<=100):\n",
    "    print(\"A grade\")\n",
    "\n",
    "elif(marks>80 and marks<=90):\n",
    "    print(\"B grade\")\n",
    "\n",
    "elif(marks>70 and marks<=80):\n",
    "    print(\"C grade\")\n",
    "\n",
    "elif(marks>60 and marks<=70):\n",
    "    print(\"D grade\")\n",
    "    \n",
    "elif(marks>50 and marks<=60):\n",
    "    print(\"E grade\")\n",
    "\n",
    "else:\n",
    "    print(\"F grade\")\n",
    "    \n",
    "## Change the marks and check the output.This is abasic case of if else condtions\n",
    "# We can also use nested if-else whenever required\n"
   ]
  },
  {
   "cell_type": "markdown",
   "id": "92d1c3e7",
   "metadata": {},
   "source": [
    "### Practice Sheet 2"
   ]
  },
  {
   "cell_type": "code",
   "execution_count": null,
   "id": "154bf5b2",
   "metadata": {},
   "outputs": [],
   "source": [
    "# Write the following programs : \n",
    "\n",
    "# 1. Input an age paramter of a person from user and check if the person can vote or not.\n",
    "\n",
    "\n",
    "# 2. Check if the number entered by the user is odd or even.\n",
    "\n",
    "\n",
    "# 3. Write a program to input three numbers and print the largest/smallest among the three.\n",
    "\n",
    "\n",
    "# 4. Write a program to input a 6 digit number and divide its digits into groups of 2.\n",
    "#    Eg : Input : 678923  ;  Output : 23 89 67"
   ]
  },
  {
   "cell_type": "markdown",
   "id": "49f8ba02",
   "metadata": {},
   "source": [
    "# Loops in python"
   ]
  },
  {
   "cell_type": "markdown",
   "id": "793bdb0f",
   "metadata": {},
   "source": [
    "## While loop"
   ]
  },
  {
   "cell_type": "code",
   "execution_count": 20,
   "id": "0fda0865",
   "metadata": {},
   "outputs": [
    {
     "name": "stdout",
     "output_type": "stream",
     "text": [
      "Hello World\n",
      "Hello World\n",
      "Hello World\n",
      "Hello World\n",
      "Hello World\n",
      "Hello World\n"
     ]
    }
   ],
   "source": [
    "# Loops are used to repeat a block of code many times. The repetetion can be number based or conditional.\n",
    "# Pythons offers different types of loops which are mainly : for and while, rest loops are derived from them.\n",
    "\n",
    "# 1. While loop : while loop repeats a code based on a given condition, if it true, the control enters the loop else not.\n",
    "\n",
    "count = 0\n",
    "while(count<=5):\n",
    "    print(\"Hello World\")\n",
    "    count+=1\n",
    "# Note : whenever we are using while loop, we ust be careful to check the conditions because if they are\n",
    "# not false even once, the loop will run till infinity."
   ]
  },
  {
   "cell_type": "markdown",
   "id": "bd9d2398",
   "metadata": {},
   "source": [
    "## For loop"
   ]
  },
  {
   "cell_type": "code",
   "execution_count": 21,
   "id": "d7064ccf",
   "metadata": {},
   "outputs": [
    {
     "name": "stdout",
     "output_type": "stream",
     "text": [
      "0\n",
      "1\n",
      "2\n",
      "3\n",
      "4\n"
     ]
    }
   ],
   "source": [
    "# for loops are generally used when we need to repeat a block of code 'n' number of times\n",
    "# or we wante to iterate over a list,tuple,set or dictionary.\n",
    "\n",
    "for i in range(0,5):\n",
    "    print(i) #upper limit is excluded in this.\n",
    "\n",
    "# end paramter: Suppose we want to print counting 1 to 10 and we use for loop to implement it. We will\n",
    "# get our output one after another, but if we want to that all printing must take in a single line,\n",
    "# we can use 'end' parameter, we can print numbers in a single line using it and we can also specify\n",
    "# what character we need between the numbers.\n",
    "# See next cell for example"
   ]
  },
  {
   "cell_type": "markdown",
   "id": "bcc46aea",
   "metadata": {},
   "source": [
    "### End parameter"
   ]
  },
  {
   "cell_type": "code",
   "execution_count": 22,
   "id": "701c2fa6",
   "metadata": {},
   "outputs": [
    {
     "name": "stdout",
     "output_type": "stream",
     "text": [
      "1 2 3 4 5 6 7 8 9 10 "
     ]
    }
   ],
   "source": [
    "for i in range(1,11):\n",
    "    print(i,end=\" \") # since we have given space, space will be printed between the numbers you may write any character you want.\n",
    "    "
   ]
  },
  {
   "cell_type": "markdown",
   "id": "56169ab3",
   "metadata": {},
   "source": [
    "### For in loop"
   ]
  },
  {
   "cell_type": "code",
   "execution_count": 23,
   "id": "f6700711",
   "metadata": {},
   "outputs": [
    {
     "name": "stdout",
     "output_type": "stream",
     "text": [
      "ansh\n",
      "123\n",
      "malik\n",
      "True\n",
      "901\n",
      "False\n"
     ]
    }
   ],
   "source": [
    "l1 = [\"ansh\",123,\"malik\", True , 901 , False]\n",
    "for i in l1:\n",
    "    print(i) #prints all the list's elements"
   ]
  },
  {
   "cell_type": "markdown",
   "id": "9e2ea46e",
   "metadata": {},
   "source": [
    "### Practice Sheet 3"
   ]
  },
  {
   "cell_type": "code",
   "execution_count": null,
   "id": "46af3179",
   "metadata": {},
   "outputs": [],
   "source": [
    "# Write the following programs:\n",
    "\n",
    "# 1. Write a program to print counting upto 'n' where n is number entered by the user.\n",
    "\n",
    "\n",
    "# 2. Write a program to print reverse counting upto 'n' where n is number entered by the user.\n",
    "\n",
    "\n",
    "# 3. Write a program using loops to calculate factorial of a number.\n",
    "\n",
    "\n",
    "# 4. Write a program to extract digits of a number entered by the user and hence check if it is \n",
    "#    pallindrome or not.\n",
    "    \n",
    "    \n",
    "# 5. Numbers in the form 2^n-1, eg: 2^1-1 = 1 ; 2^2-1 = 3 etc are called 'Mersenne numbers'. Write a \n",
    "#    program to print first 10 Mersenne numbers.\n",
    "\n",
    "\n",
    "# 6. Write a program to check if a number is prime or not.\n",
    "\n",
    "\n",
    "# 7. Write a program to find HCF and LCM of two numbers given as input by the user.\n"
   ]
  },
  {
   "cell_type": "markdown",
   "id": "cc4403fc",
   "metadata": {},
   "source": [
    "### Nested loops and patterns "
   ]
  },
  {
   "cell_type": "code",
   "execution_count": 25,
   "id": "fa683462",
   "metadata": {},
   "outputs": [
    {
     "name": "stdout",
     "output_type": "stream",
     "text": [
      "1\n",
      "12\n",
      "123\n",
      "1234\n"
     ]
    }
   ],
   "source": [
    "# In python we have nested loops too, i.e loops inside another loop. There are various use cases for this.\n",
    "# but for now, we will be using them for printing different patterns. This develops our ability to think\n",
    "# about a solution and approach in correct way.\n",
    "# Eg :1 \n",
    "'''\n",
    " 1\n",
    " 12\n",
    " 123\n",
    " 1234\n",
    "'''\n",
    "for i in range(1,5):\n",
    "    for j in range(1,i+1):\n",
    "        print(j, end=\"\")\n",
    "    print()"
   ]
  },
  {
   "cell_type": "code",
   "execution_count": 26,
   "id": "c936f196",
   "metadata": {},
   "outputs": [
    {
     "name": "stdout",
     "output_type": "stream",
     "text": [
      "1\n",
      "22\n",
      "333\n",
      "4444\n"
     ]
    }
   ],
   "source": [
    "# Eg 2 : \n",
    "'''\n",
    "1\n",
    "22\n",
    "333\n",
    "4444\n",
    "'''\n",
    "for i in range(1,5):\n",
    "    for j in range(1,i+1):\n",
    "        print(i, end=\"\")\n",
    "    print()"
   ]
  },
  {
   "cell_type": "code",
   "execution_count": 27,
   "id": "599b3f52",
   "metadata": {},
   "outputs": [
    {
     "name": "stdout",
     "output_type": "stream",
     "text": [
      "1111\n",
      "222\n",
      "33\n",
      "4\n"
     ]
    }
   ],
   "source": [
    "# Eg 3. \n",
    "'''\n",
    "1111\n",
    "222\n",
    "33\n",
    "4\n",
    "'''\n",
    "for i in range(1,5):\n",
    "    for j in range(5,i,-1):\n",
    "        print(i,end=\"\")\n",
    "    print()"
   ]
  },
  {
   "cell_type": "code",
   "execution_count": 28,
   "id": "657f2571",
   "metadata": {},
   "outputs": [
    {
     "name": "stdout",
     "output_type": "stream",
     "text": [
      "    1\n",
      "   12\n",
      "  123\n",
      " 1234\n",
      "12345\n"
     ]
    }
   ],
   "source": [
    "# Eg 4: \n",
    "'''\n",
    "    1\n",
    "   12\n",
    "  123\n",
    " 1234\n",
    "12345\n",
    "\n",
    "'''\n",
    "rows=5\n",
    "for i in range(1,6):\n",
    "    for space in range(rows-i,0,-1):\n",
    "        print(\" \",end=\"\")\n",
    "    for j in range(1,i+1):\n",
    "        print(j,end=\"\")\n",
    "    print()"
   ]
  },
  {
   "cell_type": "markdown",
   "id": "397f5a7a",
   "metadata": {},
   "source": [
    "### Approach to solve pattern questions"
   ]
  },
  {
   "cell_type": "code",
   "execution_count": 29,
   "id": "fa5bfc5d",
   "metadata": {},
   "outputs": [],
   "source": [
    "# First we need to recogonise the pattern correctly.\n",
    "# The second will be to analyse the relationship between rows and columns.\n",
    "# Third step would be to analyse how rows and columns are changing output of pattern i.e relationship between number of rows,number of columns and the content of it.\n",
    "# Fourth step would be to write code in the following way:\n",
    "#  1. Initialse an outer loop this will control rows.\n",
    "#  2. Initialise an inner loop , this will control columns\n",
    "#  3. Print according to the relationship found in the above steps( you need to figure out if the question\n",
    "#     will be solved by printing i(rows) or j(columns) in particular manner or both.)\n",
    "#  4. If there are spaces present ( as in previous example) then create two different loops for columns.\n",
    "#     One will handle space and other will handle characters."
   ]
  },
  {
   "cell_type": "markdown",
   "id": "237b4e31",
   "metadata": {},
   "source": [
    "### Practice Sheet 4"
   ]
  },
  {
   "cell_type": "code",
   "execution_count": null,
   "id": "3e241c72",
   "metadata": {},
   "outputs": [],
   "source": [
    "# Print the following patterns : \n",
    "\n",
    "# 1. A\n",
    "#    BB\n",
    "#    CCC \n",
    "#    DDDD\n",
    "\n",
    "    \n",
    "# 2. *       *\n",
    "#    **     **\n",
    "#    ***   ***\n",
    "#    **** ****\n",
    "#    ********* \n",
    "\n",
    "# 3. Pascal's Triangle"
   ]
  },
  {
   "cell_type": "markdown",
   "id": "0639aedd",
   "metadata": {},
   "source": [
    "# Strings in python"
   ]
  },
  {
   "cell_type": "markdown",
   "id": "235017cc",
   "metadata": {},
   "source": [
    "## Concatenation"
   ]
  },
  {
   "cell_type": "code",
   "execution_count": 30,
   "id": "d3a1b2f1",
   "metadata": {},
   "outputs": [
    {
     "name": "stdout",
     "output_type": "stream",
     "text": [
      "Ansh Malik\n"
     ]
    }
   ],
   "source": [
    "first_name = \"Ansh\"\n",
    "second_name = \"Malik\"\n",
    "print(first_name +\" \" + second_name) #  '+' operator concats strings"
   ]
  },
  {
   "cell_type": "markdown",
   "id": "936258d3",
   "metadata": {},
   "source": [
    "## Printing string the same way it is written"
   ]
  },
  {
   "cell_type": "code",
   "execution_count": 31,
   "id": "db46de65",
   "metadata": {},
   "outputs": [
    {
     "name": "stdout",
     "output_type": "stream",
     "text": [
      "THis\n",
      "    is an example\n",
      "     of a \n",
      "         string\n",
      "\n"
     ]
    }
   ],
   "source": [
    "print(\"\"\"THis\n",
    "    is an example\n",
    "     of a \n",
    "         string\n",
    "\"\"\")\n",
    "# By using triple single/double inverted commas , we can print the string the exact same way it is written."
   ]
  },
  {
   "cell_type": "markdown",
   "id": "5ff6ee74",
   "metadata": {},
   "source": [
    "## Pre Defined string functions"
   ]
  },
  {
   "cell_type": "code",
   "execution_count": 32,
   "id": "91e2b058",
   "metadata": {},
   "outputs": [
    {
     "name": "stdout",
     "output_type": "stream",
     "text": [
      "hello world\n",
      "HELLO WORLD\n",
      "False\n",
      "False\n",
      "False\n",
      "11\n",
      "True\n",
      "False\n"
     ]
    }
   ],
   "source": [
    "str1 = \"Hello World\"\n",
    "print(str1.lower())\n",
    "print(str1.upper())\n",
    "print(str1.islower())\n",
    "print(str1.isupper())\n",
    "print(str1.isalpha())\n",
    "print(len(str1))\n",
    "\n",
    "\n",
    "print(\"Wo\" in str1)\n",
    "print(\"xyz\" in str1)"
   ]
  },
  {
   "cell_type": "markdown",
   "id": "8956aebe",
   "metadata": {},
   "source": [
    "## Character escaping"
   ]
  },
  {
   "cell_type": "code",
   "execution_count": 33,
   "id": "5a5758bb",
   "metadata": {},
   "outputs": [
    {
     "name": "stdout",
     "output_type": "stream",
     "text": [
      "Hello\"World\n"
     ]
    }
   ],
   "source": [
    "# if we write print(\"Hello \" World\") the system will throw error.\n",
    "#Therefore we need a way to include the double inverted comma between hello and world.This is called character escaping.Ex:\n",
    "\n",
    "print(\"Hello\\\"World\") #By using a backslash just before the character we need to print, we can avoid the error."
   ]
  },
  {
   "cell_type": "markdown",
   "id": "ed33e70e",
   "metadata": {},
   "source": [
    "## String Slicing"
   ]
  },
  {
   "cell_type": "code",
   "execution_count": 34,
   "id": "71f01858",
   "metadata": {},
   "outputs": [
    {
     "name": "stdout",
     "output_type": "stream",
     "text": [
      "tho\n",
      " is \n",
      "hon is a pr\n",
      "uag\n",
      "ogramming langu\n",
      "Pto saporm\n",
      "Pospr\n",
      "Python is a programm\n",
      "hon is a programming language\n",
      "Python is a programming language\n",
      "n is a programming langu\n"
     ]
    }
   ],
   "source": [
    "# In python we can get sub-parts of the string. This is called string slicing.\n",
    "str1 = \"Python is a programming language\"\n",
    "print(str1[2:5])\n",
    "print(str1[6:10])\n",
    "print(str1[3:14])\n",
    "# We can use above method for slicing a string\n",
    "#Syntax : <string name>[<starting index> : <ending index>]\n",
    "# Note : The string is sliced from starting index to ending index-1 ie. ending index is not included.\n",
    "\n",
    "#In python, we can also name index in negatives where the lst character of the string is of index '-1'\n",
    "# Negative Slicing :\n",
    "print(str1[-4:-1])\n",
    "print(str1[-18:-3])\n",
    "\n",
    "#----------------------------------- Special cases of string slicings-----------------------------------------#\n",
    "\n",
    "print(str1[0:20:2]) # We can also give a third paramter which is no. of steps\n",
    "# In above example, from index 0 printing will occur but at every step of 2 ie indexes will be : 0,2,4,8 and so on...\n",
    "\n",
    "print(str1[0:20:4])\n",
    "\n",
    "print(str1[:20]) # If first parameter is left empty, it will by default be 0 ie. prinitng will start from first element\n",
    "\n",
    "print(str1[3:]) #If last parameter is empty, it is by default length of the string ie. printing will occur till the last\n",
    "\n",
    "#combining above two examples we get : \n",
    "print(str1[:]) # Whole string will be printed\n",
    "\n",
    "print(str1[5:-3])\n",
    "# we can also combine negative and positive indexes but we should ensure the starting index has a position to the left of ending index.\n"
   ]
  },
  {
   "cell_type": "markdown",
   "id": "c6f27d5e",
   "metadata": {},
   "source": [
    "## String updation ?"
   ]
  },
  {
   "cell_type": "code",
   "execution_count": 35,
   "id": "f12441d7",
   "metadata": {},
   "outputs": [
    {
     "ename": "TypeError",
     "evalue": "'str' object does not support item assignment",
     "output_type": "error",
     "traceback": [
      "\u001b[1;31m---------------------------------------------------------------------------\u001b[0m",
      "\u001b[1;31mTypeError\u001b[0m                                 Traceback (most recent call last)",
      "Cell \u001b[1;32mIn[35], line 2\u001b[0m\n\u001b[0;32m      1\u001b[0m str1 \u001b[38;5;241m=\u001b[39m \u001b[38;5;124m\"\u001b[39m\u001b[38;5;124mThis is a dummy string\u001b[39m\u001b[38;5;124m\"\u001b[39m\n\u001b[1;32m----> 2\u001b[0m str1[\u001b[38;5;241m3\u001b[39m] \u001b[38;5;241m=\u001b[39m \u001b[38;5;124m'\u001b[39m\u001b[38;5;124ma\u001b[39m\u001b[38;5;124m'\u001b[39m\n\u001b[0;32m      3\u001b[0m \u001b[38;5;28mprint\u001b[39m(str1)\n",
      "\u001b[1;31mTypeError\u001b[0m: 'str' object does not support item assignment"
     ]
    }
   ],
   "source": [
    "str1 = \"This is a dummy string\"\n",
    "str1[3] = 'a'\n",
    "print(str1)\n",
    "\n",
    "# The above written code will throw an error, this is because in python we can not update value of string at an index.\n",
    "# This is the reason why strings are called 'immutable data types'"
   ]
  },
  {
   "cell_type": "markdown",
   "id": "5ada3aaf",
   "metadata": {},
   "source": [
    "## F-Strings\n"
   ]
  },
  {
   "cell_type": "code",
   "execution_count": 2,
   "id": "62ef4c27",
   "metadata": {},
   "outputs": [
    {
     "name": "stdout",
     "output_type": "stream",
     "text": [
      "Hello Ansh Malik.Your age is 19\n"
     ]
    }
   ],
   "source": [
    "# In python we have 'f-strings' this helps us to print variables concatenated with a string in an easy way.\n",
    "# We can convert normal strings to f-strings by adding 'f' before inverted commas.\n",
    "# EG :\n",
    "first_name = \"Ansh\"\n",
    "second_name = \"Malik\"\n",
    "age = 19\n",
    "\n",
    "print(f\"Hello {first_name} {second_name}.Your age is {age}\") # All the variables' values will be displayed"
   ]
  },
  {
   "cell_type": "markdown",
   "id": "db336212",
   "metadata": {},
   "source": [
    "# Booleans"
   ]
  },
  {
   "cell_type": "code",
   "execution_count": null,
   "id": "c036aecf",
   "metadata": {},
   "outputs": [],
   "source": [
    "bool1 = True\n",
    "bool2 = False\n",
    "\n",
    "bool_result = any([bool1 , bool2]) # Any works the same way as or if there is any one true value it will return true\n",
    "print(bool_result)\n",
    "\n",
    "bool_result2 = all([bool1 , bool2]) # All works the same way as and, if any one value is false it will return false\n",
    "print(bool_result2)\n",
    "\n",
    "# Note: all and any can all only take one argument at max.Notice how a list is passed as argument for the same reason.\n",
    "# We will be learning more about lists further in this."
   ]
  },
  {
   "cell_type": "markdown",
   "id": "087e712f",
   "metadata": {},
   "source": [
    "# Complex Data types "
   ]
  },
  {
   "cell_type": "code",
   "execution_count": null,
   "id": "c899a2af",
   "metadata": {},
   "outputs": [],
   "source": [
    "# Complex data types in python are used to represent complex numbers from mathematics\n",
    "\n",
    "# Declaration : Complex numbers are decalared in two ways:\n",
    "\n",
    "# Way 1\n",
    "num1 = 2+3j  # Instead of i(iota) we use j in python\n",
    "\n",
    "# Way 2 \n",
    "num2 = complex(4,5) #~ 4+5j\n",
    "\n",
    "print(num1.real , num1.imag)\n",
    "print(num2.real , num2.imag)"
   ]
  },
  {
   "cell_type": "markdown",
   "id": "aa883549",
   "metadata": {},
   "source": [
    "# Built in functions for numbers"
   ]
  },
  {
   "cell_type": "code",
   "execution_count": 36,
   "id": "4c32d677",
   "metadata": {},
   "outputs": [
    {
     "name": "stdout",
     "output_type": "stream",
     "text": [
      "4.5 4.5\n",
      "4 -3 6 3 -4 -4\n",
      "4.6\n"
     ]
    }
   ],
   "source": [
    "print(abs(4.5) , abs(-4.5)) # Return +ve value(similar to mod function in mathematics)\n",
    "\n",
    "print(round(4.5) , round(-3.2)  ,round(5.6) , round(3.2) , round(-3.7) , round(-3.5)) # Rounds the number\n",
    "\n",
    "#NOTE : 'round' can take an additional paramter as well. This is called precision.\n",
    "print(round(4.56,1)) # I indicates to round off upto 1 decimal place.\n",
    "\n",
    "# There are many other functions available, in python we have a library of mathematical functions like 'maths'\n",
    "# You can explore this library and check the functions available inside it."
   ]
  },
  {
   "cell_type": "markdown",
   "id": "30adf3f3",
   "metadata": {},
   "source": [
    "# ENUMS"
   ]
  },
  {
   "cell_type": "code",
   "execution_count": 37,
   "id": "45023b8c",
   "metadata": {},
   "outputs": [
    {
     "name": "stdout",
     "output_type": "stream",
     "text": [
      "1\n",
      "State.ACTIVE\n",
      "1\n",
      "[<State.INACTIVE: 0>, <State.ACTIVE: 1>]\n",
      "2\n"
     ]
    }
   ],
   "source": [
    "# Enums are the readable names which are bound to certain value.\n",
    "\n",
    "from enum import Enum\n",
    "\n",
    "class State(Enum):\n",
    "    INACTIVE = 0\n",
    "    ACTIVE = 1\n",
    "\n",
    "print(State.ACTIVE.value) # Accessing by name\n",
    "print(State(1)) # Accessing by value\n",
    "print(State['ACTIVE'].value)\n",
    "\n",
    "print(list(State))\n",
    "print(len(State))"
   ]
  },
  {
   "cell_type": "markdown",
   "id": "4dc9bcde",
   "metadata": {},
   "source": [
    "### Practice Sheet 5"
   ]
  },
  {
   "cell_type": "code",
   "execution_count": null,
   "id": "d2577924",
   "metadata": {},
   "outputs": [],
   "source": [
    "# 1. Write a program that inputs a string from a user and if it is lowercase , it will print the string\n",
    "#    in upper case and vice versa (Assume user enters the string only in upper and lower case).\n",
    "    \n",
    "    \n",
    "# 2. Write a program that inputs a string and capitalises first letter of each word.\n",
    "\n",
    "\n",
    "# 3. Write a program that inputs a string a capitalises alternate lettes. \n",
    "#    EG : Input : \"ansh malik\" ; Output : \"AnSh mAlIk\"\n",
    "                \n",
    "\n",
    "# 4. Write a program that inputs a string and checks if it is pallindrome or not.\n",
    "\n",
    "\n",
    "# 5. Write a program that inputs a string and counts number of lower case, upper case and numeric values. \n",
    "\n",
    "\n",
    "# 6. Write a program to input an address containing pincode and extract the pincode out of it.\n",
    "#    Eg : Input : \"New Delhi 110011\" ; Output : 110011\n",
    "                \n",
    "                \n",
    "# 7. Twisted Pig Latin : Prompt the user to enter a single word. Then form a new word by taking the first\n",
    "#    letter of the original word, moving it to last and adding 'ay' to it.\n",
    "#    Eg : Input : \"school\" ; Output : \"choolsay\" \n",
    "                \n",
    "                \n",
    "# 8. Password Validation : Write a program that prompts user for their password and deteremines if the \n",
    "#    password entered is valid or not. A password is said to be valid if it starts with a digit, has both\n",
    "#    lower and upper case letters and has length equal to or more than 6. Make sure to print an appropriate\n",
    "#    message in both the cases( when password is valid and when password is invalid) "
   ]
  },
  {
   "cell_type": "markdown",
   "id": "f1a33941",
   "metadata": {},
   "source": [
    "# LISTS"
   ]
  },
  {
   "cell_type": "code",
   "execution_count": 38,
   "id": "caa67185",
   "metadata": {},
   "outputs": [
    {
     "name": "stdout",
     "output_type": "stream",
     "text": [
      "['ansh', 123, True, 'malik', 'abc', 1423, 'xyz']\n"
     ]
    }
   ],
   "source": [
    "# In python, list is a data structure which stores multiple values.These can be of same or different data types\n",
    "# Lists are initialised with a square bracket '[]'.\n",
    "# Main difference between List and String is that list is mutable(updatable) while string are not\n",
    "\n",
    "list1 = ['ansh' , 123 , True , 'malik' , 'abc' , 1423 , 'xyz']\n",
    "print(list1)"
   ]
  },
  {
   "cell_type": "markdown",
   "id": "4c87182e",
   "metadata": {},
   "source": [
    "## Different operations of lists"
   ]
  },
  {
   "cell_type": "code",
   "execution_count": 2,
   "id": "8061b89f",
   "metadata": {
    "scrolled": true
   },
   "outputs": [
    {
     "name": "stdout",
     "output_type": "stream",
     "text": [
      "ansh malik\n",
      "['ansh', 123, False, 'malik', 'abc', 1423, 'xyz']\n",
      "[123, False, 'malik']\n",
      "['ansh', 123, False, 'malik']\n",
      "False\n"
     ]
    }
   ],
   "source": [
    "list1 = ['ansh' , 123 , True , 'malik' , 'abc' , 1423 , 'xyz']\n",
    "# 1. Accessing\n",
    "print(list1[0] , list1[3])\n",
    "\n",
    "# 2. Updation\n",
    "list1[2] = False\n",
    "print(list1)\n",
    "# Notice how esily we can update the values unlike in string. Therefore we can conclude that lists are 'mutable data types'.\n",
    "\n",
    "# 3. List slicing (similar to strings)\n",
    "print(list1[1:4])\n",
    "print(list1[:4])\n",
    "\n",
    "# 4. Comparing two lists.\n",
    "compare_list1 = [1,2,3,5,6]\n",
    "compare_list2 = [1,[2,4,5],9]\n",
    "print(compare_list1==compare_list2)\n",
    "#Note : For comparison operators like '<','>,'==' etc, the corresponding elements of the two lists must be of comparable types, else error will occur. "
   ]
  },
  {
   "cell_type": "markdown",
   "id": "b97aa3d4",
   "metadata": {},
   "source": [
    "## Adding elements to list"
   ]
  },
  {
   "cell_type": "code",
   "execution_count": 40,
   "id": "6e13b509",
   "metadata": {},
   "outputs": [
    {
     "name": "stdout",
     "output_type": "stream",
     "text": [
      "['ansh', 123, True, 'malik', 'abc', 1423, 'xyz', 456]\n",
      "['ansh', 123, True, 'malik', 'abc', 1423, 'xyz', 456, ['q', True, 3421]]\n",
      "['ansh', 123, True, 'malik', 'abc', 1423, 'xyz', 456, ['q', True, 3421], 'l', 'm', 'n']\n",
      "['ansh', 123, True, 'malik', 'abc', 1423, 'xyz', 456, ['q', True, 3421], 'l', 'm', 'n', 'a', True, 9012]\n",
      "['ansh', 123, True, 'malik', 'abc', 1423, 'xyz', 456, ['q', True, 3421], 'l', 'm', 'n', 'a', True, 9012, 'new', 'entry', 'r', 's', 't']\n"
     ]
    }
   ],
   "source": [
    "list1 = ['ansh' , 123 , True , 'malik' , 'abc' , 1423 , 'xyz']\n",
    "# 4. Adding elements to list\n",
    "  # Method 1 : Append\n",
    "list1.append(456)    # Single value passed using append\n",
    "print(list1)\n",
    "\n",
    "list1.append(['q',True,3421]) # Multiple values passed in form of another list but nested list will be formed(list inside a list)\n",
    "print(list1)\n",
    "\n",
    "# Method 2: extend\n",
    "list1.extend('lmn') # 'lmn' will be appneded as three different entries\n",
    "print(list1)\n",
    "\n",
    "list1.extend(['a', True , 9012]) #Multiple value passed but this time no nested list will be formed.\n",
    "print(list1)\n",
    "\n",
    "# Append and extend has different use cases therefore we must know how and when to use them effeciently.\n",
    "\n",
    "# Method 3: Addition\n",
    "list1+=['new' , 'entry'] # No nested list if formed\n",
    "list1+='rst' # rst will be added as three different entries 'r' , 's' , 't' bcoz it is passed as a string not a list.\n",
    "print(list1)"
   ]
  },
  {
   "cell_type": "code",
   "execution_count": 41,
   "id": "bd5fd0e5",
   "metadata": {},
   "outputs": [
    {
     "name": "stdout",
     "output_type": "stream",
     "text": [
      "['ansh', 123, True, 'malik', 'abc', 1423]\n",
      "['ansh', 123, 'malik', 'abc']\n"
     ]
    }
   ],
   "source": [
    "list1 = ['ansh' , 123 , True , 'malik' , 'abc' , 1423 , 'xyz']\n",
    "# 5. Removing elements\n",
    "list1.remove('xyz') #removes element based on value given as parameter. This paramter is required\n",
    "print(list1)\n",
    "\n",
    "list1.pop() # removes last element\n",
    "\n",
    "list1.pop(2) # Removes element from second position, default value of pop is -1.\n",
    "\n",
    "print(list1)"
   ]
  },
  {
   "cell_type": "code",
   "execution_count": 42,
   "id": "c93256e3",
   "metadata": {
    "scrolled": true
   },
   "outputs": [
    {
     "name": "stdout",
     "output_type": "stream",
     "text": [
      "['ansh', 123, True, 'test', 'malik', 'abc', 1423, 'xyz']\n",
      "['ansh', 'a', 'b', 'c', 'test', 'malik', 'abc', 1423, 'xyz']\n",
      "['ansh', 'x', 'test', 'malik', 'abc', 1423, 'xyz']\n"
     ]
    }
   ],
   "source": [
    "# 6 Insertion\n",
    "list1 = ['ansh' , 123 , True , 'malik' , 'abc' , 1423 , 'xyz']\n",
    "\n",
    "list1.insert(3,'test')  # adds 'test' at 3 index. Syntax : <list name>.insert(<position>,<value>)\n",
    "print(list1)\n",
    "\n",
    "# Inserting multiple values using slices\n",
    "list1[1:3] =['a','b','c']  # 'a' , 'b' , 'c' will be inserted starting from 1 index.\n",
    "print(list1) # Note : if index is range is more than the elements to be insterted, the original elements present at that index will be deleted\n",
    "\n",
    "# EX:\n",
    "list1[1:4] = ['x'] # x will be insterted at 1 index and rest of the elements(upto 3, bcoz 4 is excluded) will be deleted.\n",
    "print(list1)"
   ]
  },
  {
   "cell_type": "markdown",
   "id": "4104de12",
   "metadata": {},
   "source": [
    "## Max and Min element in lists"
   ]
  },
  {
   "cell_type": "code",
   "execution_count": 43,
   "id": "9db665e3",
   "metadata": {},
   "outputs": [
    {
     "name": "stdout",
     "output_type": "stream",
     "text": [
      "Maximum number in the list is 987\n",
      "Minimum number in the list is 1\n"
     ]
    }
   ],
   "source": [
    "# We can find maximum and minimum elements in a list without for loops by using 'max' and 'min' functions\n",
    "list1 =[12,134,90,76,987,34,1,34,765,32]\n",
    "print(f\"Maximum number in the list is {max(list1)}\")\n",
    "print(f\"Minimum number in the list is {min(list1)}\")"
   ]
  },
  {
   "cell_type": "markdown",
   "id": "f0c67f68",
   "metadata": {},
   "source": [
    "## Soritng Lists"
   ]
  },
  {
   "cell_type": "code",
   "execution_count": 44,
   "id": "4d28b851",
   "metadata": {},
   "outputs": [
    {
     "name": "stdout",
     "output_type": "stream",
     "text": [
      "['JavaScript', 'R', 'cpp', 'java', 'python', 'ruby']\n",
      "['cpp', 'java', 'JavaScript', 'python', 'R', 'ruby']\n",
      "[1, 2, 10, 43, 43, 87, 98]\n",
      "[98, 87, 43, 43, 10, 2, 1]\n"
     ]
    }
   ],
   "source": [
    "# Sorting lists in python only works in homogeneous list ie. the list must contain only numbers or only strings.\n",
    "# in case of numbers, sorting is done normally while in case of strings, sorting is done on the basis of ASCII code.\n",
    "\n",
    "str_list = [\"python\" , \"cpp\" , \"ruby\", \"R\" , \"java\" , \"JavaScript\"]\n",
    "str_list.sort()\n",
    "print(str_list) # Due to sorting based on ASCII codes, words starting with capital letters comes first. We can fix this by:-\n",
    "\n",
    "str_list.sort(key=str.lower) # problem solved\n",
    "print(str_list)\n",
    "\n",
    "# Sorting in reverse order: There is a paramter in sort function called 'reverse' we can use this to sort in descending order\n",
    "num_list=[1,43,10,87,98,2,43]\n",
    "num_list.sort()\n",
    "print(num_list)\n",
    "\n",
    "num_list.sort(reverse=True)\n",
    "print(num_list)\n",
    "\n",
    "# Note : The sort function uses 'TIM SORT' which is a combination of merge sort and insertion sort\n",
    "# sorting changes the original list, therefore we must keep it in mind while using the function and create a copy of original list is required."
   ]
  },
  {
   "cell_type": "markdown",
   "id": "6f4580be",
   "metadata": {},
   "source": [
    "## Practice Sheet 6"
   ]
  },
  {
   "cell_type": "code",
   "execution_count": null,
   "id": "997a4acb",
   "metadata": {},
   "outputs": [],
   "source": []
  },
  {
   "cell_type": "markdown",
   "id": "4f95a407",
   "metadata": {},
   "source": [
    "# TUPLES"
   ]
  },
  {
   "cell_type": "code",
   "execution_count": 45,
   "id": "ff8a2bc2",
   "metadata": {},
   "outputs": [
    {
     "name": "stdout",
     "output_type": "stream",
     "text": [
      "('ansh', 123, 'malik', True)\n",
      "malik\n",
      "1\n",
      "Length of tuples is 4\n"
     ]
    }
   ],
   "source": [
    "# Tuples are like lists of objects but the difference is that Tuples are immutable while lists are mutable\n",
    "# Tuples are initialised using a rounded bracket\n",
    "\n",
    "tup1 = (\"ansh\", 123,\"malik\", True)\n",
    "print(tup1)\n",
    "\n",
    "print(tup1[2])\n",
    "print(tup1.index(123))\n",
    "\n",
    "print(f\"Length of tuples is {len(tup1)}\")"
   ]
  },
  {
   "cell_type": "code",
   "execution_count": 46,
   "id": "66a937db",
   "metadata": {},
   "outputs": [
    {
     "name": "stdout",
     "output_type": "stream",
     "text": [
      "['a', 'is', 'language', 'programming', 'Python']\n",
      "('ansh', 123, 'malik', True, 'Python', 'is', 'a', 'programming', 'language')\n"
     ]
    }
   ],
   "source": [
    "tup2 = (\"Python\" , \"is\" , \"a\" , \"programming\" , \"language\")\n",
    "print(sorted(tup2,key=str.lower)) # A new tuple is created after sorting unlike lists\n",
    "\n",
    "# Tuples Concatention\n",
    "new_tuple = tup1+tup2\n",
    "print(new_tuple)"
   ]
  },
  {
   "cell_type": "markdown",
   "id": "99ee6913",
   "metadata": {},
   "source": [
    "# Dictionaries"
   ]
  },
  {
   "cell_type": "code",
   "execution_count": 47,
   "id": "280e4dcd",
   "metadata": {},
   "outputs": [
    {
     "name": "stdout",
     "output_type": "stream",
     "text": [
      "Ansh\n",
      "20\n",
      "None\n",
      "BTECH\n"
     ]
    }
   ],
   "source": [
    "# Dictionaries in pyhton is a data type which stores key value pairs. It is initialised using a curly braces '{}'\n",
    "# Syntax of dictionaries : <variable name> = {<key1> : <value1> , <key2> : <value2>,......<keyN> : <valueN>}\n",
    "# Dictionaries are mutable data types\n",
    "\n",
    "dict1 = {\"name\" : \"Ansh\" , \"lastName\" : \"Malik\" , \"pet\" : \"Tabby\" , \"age\" : 20 , \"branch\" : \"AIML\"}\n",
    "print(dict1[\"name\"])\n",
    "\n",
    "print(dict1.get(\"age\"))\n",
    "# The above method is preferred to access values of dictionaries because it will not throw an error if key is not present.\n",
    "# Instead it will return 'NONE' or we can set a default value in case key is absent.\n",
    "\n",
    "print(dict1.get(\"college\"))\n",
    "print(dict1.get(\"course\",\"BTECH\")) # If 'course' is not mentioned, it will print 'BTECH'\n"
   ]
  },
  {
   "cell_type": "code",
   "execution_count": 48,
   "id": "2c88dc66",
   "metadata": {},
   "outputs": [
    {
     "name": "stdout",
     "output_type": "stream",
     "text": [
      "kimchi\n",
      "('ice_cream', 'chocolate')\n"
     ]
    }
   ],
   "source": [
    "dict2 = {\"fruit\" : \"apple\" , \"vegetable\" : \"spinach\" , \"dish\" : \"kimchi\" , \"ice_cream\" : \"chocolate\"}\n",
    "print(dict2.pop(\"dish\")) # pops the item based on the argument given\n",
    "print(dict2.popitem()) #pops the last item entered to the dictionary"
   ]
  },
  {
   "cell_type": "code",
   "execution_count": 49,
   "id": "65f2f93c",
   "metadata": {},
   "outputs": [
    {
     "name": "stdout",
     "output_type": "stream",
     "text": [
      "True\n",
      "False\n",
      "------------------------------\n",
      "dict_keys(['fruit', 'vegetable', 'dish', 'ice_cream'])\n",
      "dict_values(['apple', 'spinach', 'kimchi', 'chocolate'])\n",
      "------------------------------\n",
      "['fruit', 'vegetable', 'dish', 'ice_cream']\n",
      "['apple', 'spinach', 'kimchi', 'chocolate']\n",
      "------------------------------\n",
      "[('fruit', 'apple'), ('vegetable', 'spinach'), ('dish', 'kimchi'), ('ice_cream', 'chocolate')]\n"
     ]
    }
   ],
   "source": [
    "dict2 = {\"fruit\" : \"apple\" , \"vegetable\" : \"spinach\" , \"dish\" : \"kimchi\" , \"ice_cream\" : \"chocolate\"}\n",
    "print(\"fruit\" in dict2)\n",
    "print(\"color\" in dict2)\n",
    "\n",
    "print(\"------------------------------\")\n",
    "\n",
    "print(dict2.keys())\n",
    "print(dict2.values())\n",
    "\n",
    "print(\"------------------------------\")\n",
    "\n",
    "print(list(dict2.keys()))\n",
    "print(list(dict2.values()))\n",
    "\n",
    "print(\"------------------------------\")\n",
    "\n",
    "print(list(dict2.items()))"
   ]
  },
  {
   "cell_type": "code",
   "execution_count": 50,
   "id": "855a18c2",
   "metadata": {},
   "outputs": [
    {
     "name": "stdout",
     "output_type": "stream",
     "text": [
      "{'name': 'Ansh', 'lastName': 'Malik', 'pet': 'Tabby', 'age': 20, 'branch': 'AIML', 'fav_color': 'Blue', 'sport': 'chess'}\n",
      "{'name': 'Ansh', 'lastName': 'Malik', 'pet': 'Tabby', 'age': 20, 'branch': 'AIML', 'sport': 'chess'}\n",
      "{'name': 'Ansh', 'lastName': 'Malik', 'pet': 'Tabby', 'age': 20, 'branch': 'AIML', 'sport': 'chess'}\n"
     ]
    }
   ],
   "source": [
    "dict1 = {\"name\" : \"Ansh\" , \"lastName\" : \"Malik\" , \"pet\" : \"Tabby\" , \"age\" : 20 , \"branch\" : \"AIML\" , \"fav_color\" : \"Blue\"}\n",
    "\n",
    "# Adding new key value pair : \n",
    "dict1[\"sport\"] = \"chess\" # syntax : <variable name>[<key name>] = <value>\n",
    "print(dict1)\n",
    "\n",
    "# Deleting items\n",
    "del dict1[\"fav_color\"]\n",
    "print(dict1)\n",
    "\n",
    "# Creating copy of dictionary \n",
    "copy_dict = dict1.copy()\n",
    "print(copy_dict)"
   ]
  },
  {
   "cell_type": "markdown",
   "id": "297976b3",
   "metadata": {},
   "source": [
    "# Sets"
   ]
  },
  {
   "cell_type": "code",
   "execution_count": 51,
   "id": "fbb751d6",
   "metadata": {},
   "outputs": [
    {
     "name": "stdout",
     "output_type": "stream",
     "text": [
      "{'ansh', 'shankar', 'ram', 'bajrangi', 'shyam'}\n"
     ]
    }
   ],
   "source": [
    "# Sets are used to store multiple items in a single variable.\n",
    "# Sets are like dictionary but they don't have key value pairs.\n",
    "# Set is a mutable data type.\n",
    "# If set has duplicate values, it will treat it as a single entity only.\n",
    "\n",
    "names={\"ansh\" , \"ram\" , \"shyam\" , \"shankar\" , \"bajrangi\" ,\"ansh\"}\n",
    "print(names)"
   ]
  },
  {
   "cell_type": "markdown",
   "id": "ff9fe765",
   "metadata": {},
   "source": [
    "## Mathematical operations on sets"
   ]
  },
  {
   "cell_type": "code",
   "execution_count": 52,
   "id": "dcf026f6",
   "metadata": {},
   "outputs": [
    {
     "name": "stdout",
     "output_type": "stream",
     "text": [
      "{2, 4, 5}\n",
      "{1, 2, 3, 4, 5, 6, 8}\n",
      "{8, 1}\n",
      "{3, 6}\n"
     ]
    }
   ],
   "source": [
    "# We can perform operations on sets just like in maths i.e intersection , union etc.\n",
    "set1={1,2,4,8,5}\n",
    "set2={2,3,5,4,6}\n",
    "\n",
    "intersect = set1 & set2\n",
    "print(intersect)\n",
    "\n",
    "union = set1 | set2\n",
    "print(union)\n",
    "\n",
    "diff = set1 - set2  # Elements which are in set1 but not set2\n",
    "print(diff)\n",
    "\n",
    "diff2 = set2 - set1\n",
    "print(diff2) # Elements which are in set2 but not in set1 \n"
   ]
  },
  {
   "cell_type": "code",
   "execution_count": 53,
   "id": "cdfcbbe1",
   "metadata": {},
   "outputs": [
    {
     "name": "stdout",
     "output_type": "stream",
     "text": [
      "True\n",
      "True\n",
      "False\n"
     ]
    }
   ],
   "source": [
    "new_set1 = {1,2,3,4,5,6,7,8}\n",
    "new_set2 = {2,4,6,8}\n",
    "superset = new_set1>new_set2  # checks if new_set1 is superset of new_set2 or not\n",
    "print(superset)\n",
    "\n",
    "subset = new_set2<new_set1 # checks if new_set2 is subset pf new_set1 or not\n",
    "print(subset)\n",
    "\n",
    "subset = new_set1<new_set2 \n",
    "print(subset)"
   ]
  },
  {
   "cell_type": "markdown",
   "id": "88930b2e",
   "metadata": {},
   "source": [
    "# Functions is python"
   ]
  },
  {
   "cell_type": "code",
   "execution_count": 54,
   "id": "ec060942",
   "metadata": {},
   "outputs": [
    {
     "name": "stdout",
     "output_type": "stream",
     "text": [
      "Hello\n",
      "Hello\n",
      "Hello\n"
     ]
    }
   ],
   "source": [
    "# Functions are the reusable piece of code.\n",
    "# Functions defined once, can be used again and again in the same code.\n",
    "# This increases code readibility and code managebility.\n",
    "# Syntax to create functions : def <function name> (< Paramters>) \n",
    "def greet():\n",
    "    print (\"Hello\")\n",
    "greet() # Syntax to call the function\n",
    "greet()\n",
    "greet()"
   ]
  },
  {
   "cell_type": "markdown",
   "id": "05dd8fd4",
   "metadata": {},
   "source": [
    "## Functions and parameters"
   ]
  },
  {
   "cell_type": "code",
   "execution_count": 55,
   "id": "5bf8375f",
   "metadata": {},
   "outputs": [
    {
     "name": "stdout",
     "output_type": "stream",
     "text": [
      "Hello Ansh\n",
      "Hello Vivek\n",
      "Hello Khushi\n",
      "--------------------------------------------------\n",
      "\n",
      "Welocme Ansh\n",
      "Welocme Rahul\n"
     ]
    }
   ],
   "source": [
    "# Functions can also accept some aguments(just like we saw in pre defined functions above)\n",
    "# We must specify what arguments the function will tke at the time of defining a function\n",
    "\n",
    "def greet2(name):\n",
    "    print(f\"Hello {name}\")\n",
    "greet2(\"Ansh\")\n",
    "greet2(\"Vivek\")\n",
    "greet2(\"Khushi\")\n",
    "\n",
    "# Paramters v/s arguments:\n",
    "# Paramters are the values accepted by the function inside the function definition\n",
    "# Arguments are the values passed to function while calling it.\n",
    "\n",
    "# We can also specify default values of parameters in python. This helps to tackle the case when no argument is passed.\n",
    "print(\"--------------------------------------------------\\n\")\n",
    "def greet3(name=\"Rahul\"):\n",
    "    print(f\"Welocme {name}\")\n",
    "greet3(\"Ansh\")\n",
    "greet3()"
   ]
  },
  {
   "cell_type": "code",
   "execution_count": 56,
   "id": "ff36d21e",
   "metadata": {},
   "outputs": [
    {
     "name": "stdout",
     "output_type": "stream",
     "text": [
      "20\n"
     ]
    }
   ],
   "source": [
    "# A function can also return values using 'return' statement. When return statement is reached, the function ends.\n",
    "def add_num(a=0 , b=0):\n",
    "    return a+b\n",
    "result = add_num(9,11) # a+b is stored in 'result' variable\n",
    "print(result)"
   ]
  },
  {
   "cell_type": "code",
   "execution_count": 57,
   "id": "ba2b6106",
   "metadata": {},
   "outputs": [
    {
     "name": "stdout",
     "output_type": "stream",
     "text": [
      "15\n"
     ]
    }
   ],
   "source": [
    "# In python when we define multiple paramters in a function , and assign them default values,\n",
    "# we must take care that the assignment of default values take place from right to left. Else it will throw error.\n",
    "\n",
    "def addition(a , b , c=0 , d=0 , e=0):\n",
    "    return(a+b+c+d+e)\n",
    "res = addition(1,2,3,4,5)\n",
    "print(res)\n",
    "# this will execute properly"
   ]
  },
  {
   "cell_type": "code",
   "execution_count": 58,
   "id": "f44ab763",
   "metadata": {},
   "outputs": [
    {
     "ename": "SyntaxError",
     "evalue": "non-default argument follows default argument (4179668280.py, line 2)",
     "output_type": "error",
     "traceback": [
      "\u001b[1;36m  Cell \u001b[1;32mIn[58], line 2\u001b[1;36m\u001b[0m\n\u001b[1;33m    def addition(a=0, b=0 , c=0 , d , e):\u001b[0m\n\u001b[1;37m                                  ^\u001b[0m\n\u001b[1;31mSyntaxError\u001b[0m\u001b[1;31m:\u001b[0m non-default argument follows default argument\n"
     ]
    }
   ],
   "source": [
    "# But this statement will throw an error \n",
    "def addition(a=0, b=0 , c=0 , d , e):\n",
    "    return(a+b+c+d+e)\n",
    "res = addition(1,2,3,4,5)\n",
    "print(res)"
   ]
  },
  {
   "cell_type": "markdown",
   "id": "63ecc8ad",
   "metadata": {},
   "source": [
    "## Varibale scoping"
   ]
  },
  {
   "cell_type": "code",
   "execution_count": 59,
   "id": "755bca72",
   "metadata": {},
   "outputs": [
    {
     "name": "stdout",
     "output_type": "stream",
     "text": [
      "Age before calling function is 8\n",
      "Age inside the function is 9\n",
      "Age after calling function is 8\n"
     ]
    }
   ],
   "source": [
    "# Scope of a variable is defined as the block of code in which it is defined and can be accessed.\n",
    "age = 8\n",
    "def test(age):\n",
    "    age=age+1\n",
    "    print(f\"Age inside the function is {age}\")\n",
    "print(f\"Age before calling function is {age}\")\n",
    "test(age)\n",
    "print(f\"Age after calling function is {age}\")\n",
    "\n",
    "# You can see that outside the function the value of age remains same this is because :\n",
    "# outside function body , the variable declared (with value 8) is accessed.\n",
    "# The variable 'age' declared outside the function is an example of 'global variable'"
   ]
  },
  {
   "cell_type": "code",
   "execution_count": 60,
   "id": "5eb0f31e",
   "metadata": {},
   "outputs": [
    {
     "ename": "NameError",
     "evalue": "name 'age2' is not defined",
     "output_type": "error",
     "traceback": [
      "\u001b[1;31m---------------------------------------------------------------------------\u001b[0m",
      "\u001b[1;31mNameError\u001b[0m                                 Traceback (most recent call last)",
      "Cell \u001b[1;32mIn[60], line 4\u001b[0m\n\u001b[0;32m      2\u001b[0m     age2 \u001b[38;5;241m=\u001b[39m \u001b[38;5;241m8\u001b[39m;\n\u001b[0;32m      3\u001b[0m     \u001b[38;5;28mprint\u001b[39m(age2)\n\u001b[1;32m----> 4\u001b[0m \u001b[38;5;28mprint\u001b[39m(age2)\n",
      "\u001b[1;31mNameError\u001b[0m: name 'age2' is not defined"
     ]
    }
   ],
   "source": [
    "def test2():\n",
    "    age2 = 8;\n",
    "    print(age2)\n",
    "print(age2)\n",
    "\n",
    "# The above program will throw an error because the 'age' is defined inside the function body and\n",
    "# outside the function , it can not be acccessed\n",
    "# it is an example of 'local variable'"
   ]
  },
  {
   "cell_type": "markdown",
   "id": "c5f4af1c",
   "metadata": {},
   "source": [
    "## Nested functions"
   ]
  },
  {
   "cell_type": "code",
   "execution_count": 61,
   "id": "38f96b81",
   "metadata": {},
   "outputs": [
    {
     "name": "stdout",
     "output_type": "stream",
     "text": [
      "Hello\n"
     ]
    }
   ],
   "source": [
    "def parent_function():\n",
    "    print(\"Hello\")\n",
    "    def child_function():\n",
    "        print(\"World\")\n",
    "parent_function()\n",
    "\n",
    "# What will be the output? Try to guess it with out seeing the actual output.\n",
    "# This question is a tricky question and most begginers give incorrect answer to this.\n",
    "# The answer to this question will : 'Hello' , only.\n",
    "# This is because the child_function is only defined inside parent_function but not called anywhere."
   ]
  },
  {
   "cell_type": "markdown",
   "id": "884adccd",
   "metadata": {},
   "source": [
    "## Lambda functions"
   ]
  },
  {
   "cell_type": "code",
   "execution_count": 11,
   "id": "b5b6238a",
   "metadata": {},
   "outputs": [
    {
     "name": "stdout",
     "output_type": "stream",
     "text": [
      "56\n"
     ]
    }
   ],
   "source": [
    "# In python there is a feature called 'lambda'.\n",
    "# It allows us to create functions a simpler way. But these functions must have a single expression as body.\n",
    "\n",
    "multiply = lambda a,b : a*b\n",
    "print(multiply(7,8))\n",
    "\n",
    "#Syntax : <variable name> = lambda <parameters> : <exprssion to be returned>\n"
   ]
  },
  {
   "cell_type": "markdown",
   "id": "91f0455f",
   "metadata": {},
   "source": [
    "# Objects in python"
   ]
  },
  {
   "cell_type": "code",
   "execution_count": 62,
   "id": "857006be",
   "metadata": {},
   "outputs": [
    {
     "name": "stdout",
     "output_type": "stream",
     "text": [
      "19\n",
      "0\n",
      "5\n",
      "\n",
      "----------------------------------------------\n",
      "\n",
      "[1, 2, 3]\n",
      "[1, 2]\n",
      "2041813617792\n"
     ]
    }
   ],
   "source": [
    "# 1. Int objects\n",
    "age = 19\n",
    "print(age.real)\n",
    "print(age.imag)\n",
    "print(age.bit_length())\n",
    "\n",
    "print(\"\\n----------------------------------------------\\n\")\n",
    "# 2. List objects\n",
    "item = [1,2]\n",
    "item.append(3)\n",
    "print(item)\n",
    "item.pop()\n",
    "print(item)\n",
    "print(id(item)) # Gives location in memory"
   ]
  },
  {
   "cell_type": "markdown",
   "id": "13f28d15",
   "metadata": {},
   "source": [
    "# Classes"
   ]
  },
  {
   "cell_type": "code",
   "execution_count": null,
   "id": "ff79d971",
   "metadata": {},
   "outputs": [],
   "source": [
    "# Python is an object oriented programming\n",
    "# A Class is like an object constructor, or a \"blueprint\" for creating objects.\n",
    "# An object represents real life objects that have their own features and behaviours.\n",
    "# We can create a class by using a keyword 'class' and later an object of the same class.\n",
    "# Assume 'student' as a class with 'name' , 'roll no' , 'section' etc as its attributes.\n",
    "# Now lets implement the same model as mentioned above."
   ]
  },
  {
   "cell_type": "code",
   "execution_count": 10,
   "id": "999a54a3",
   "metadata": {},
   "outputs": [
    {
     "name": "stdout",
     "output_type": "stream",
     "text": [
      "<class 'type'>\n",
      "Welcome to the college Ansh, your course is Btech with AIML branch , your roll number is 1234567\n",
      "<class '__main__.Student'>\n"
     ]
    }
   ],
   "source": [
    "class Student:\n",
    "    def __init__(self , name , course , branch , rollN):\n",
    "        self.name = name\n",
    "        self.course = course\n",
    "        self.branch = branch\n",
    "        self.roll_number = rollN\n",
    "        self.gender=\"\"\n",
    "        self.favourite_language = \"\"\n",
    "        self.hobby = \"\"\n",
    "        print(f\"Welcome to the college {self.name}, your course is {self.course} with {self.branch} branch , your roll number is {self.roll_number}\")\n",
    "\n",
    "print(type(Student))        \n",
    "new_student = Student(\"Ansh\" , \"Btech\" ,\"AIML\" , 1234567)\n",
    "print(type(new_student))        \n",
    "# In this way a class is created along with object of the same class.\n",
    "# We can also write code to input empty values like gender from the user and update it.\n",
    "# We will be diving deeper into this topic while studying 'OOPS'."
   ]
  },
  {
   "cell_type": "markdown",
   "id": "56085362",
   "metadata": {},
   "source": [
    "# Decorators in python"
   ]
  },
  {
   "cell_type": "code",
   "execution_count": 15,
   "id": "c035c870",
   "metadata": {},
   "outputs": [
    {
     "name": "stdout",
     "output_type": "stream",
     "text": [
      "Before\n",
      "Hello\n",
      "After\n"
     ]
    }
   ],
   "source": [
    "# Decorators allows us to modify the behaviour of function or class.\n",
    "# Decorators allow us to wrap another function in order to extend the behaviour of the wrapped function,#\n",
    "# without permanently modifying it.\n",
    "\n",
    "# Decorators are used for logging functionality , test performance , verifing credentials etc.\n",
    "\n",
    "# Basic example of decorators:\n",
    "\n",
    "def logtime(func):\n",
    "    def wrapper():\n",
    "        # code to be executed before main function\n",
    "        print(\"Before\")\n",
    "        val=func()\n",
    "        # Code to be executed after main function\n",
    "        print(\"After\")\n",
    "        return val\n",
    "    return wrapper\n",
    "\n",
    "@logtime\n",
    "def hello():\n",
    "    print(\"Hello\")\n",
    "\n",
    "hello()\n",
    "\n",
    "# This is just a gist of the concept, it a advanced concept so we will be studying them later."
   ]
  },
  {
   "cell_type": "markdown",
   "id": "035fafdf",
   "metadata": {},
   "source": [
    "# Docstrings"
   ]
  },
  {
   "cell_type": "code",
   "execution_count": 19,
   "id": "63034625",
   "metadata": {},
   "outputs": [
    {
     "name": "stdout",
     "output_type": "stream",
     "text": [
      "Help on class Dog in module __main__:\n",
      "\n",
      "class Dog(builtins.object)\n",
      " |  Dog(name, age)\n",
      " |  \n",
      " |  Module 1 ......lorem ipsum doler (details about the program)\n",
      " |  The program has the following classes:\n",
      " |  -Dog\n",
      " |  \n",
      " |  Methods defined here:\n",
      " |  \n",
      " |  __init__(self, name, age)\n",
      " |      Initializes a new dog object\n",
      " |  \n",
      " |  bark()\n",
      " |      This commands the dog to bark\n",
      " |  \n",
      " |  ----------------------------------------------------------------------\n",
      " |  Data descriptors defined here:\n",
      " |  \n",
      " |  __dict__\n",
      " |      dictionary for instance variables (if defined)\n",
      " |  \n",
      " |  __weakref__\n",
      " |      list of weak references to the object (if defined)\n",
      "\n",
      "None\n"
     ]
    }
   ],
   "source": [
    "# There will be many instances where we may write a complex code at first but later when we visit the code \n",
    "# again after some months, we may forget what line does what. This where docstrings are helpful.\n",
    "# docstrings are like comments written for the program but they are more like a guide/manual.\n",
    "# Docstrings are initialised using triple single/double inverted commas.\n",
    "# Eg : Below is an example of docstrings written for a code which is declaring a class.\n",
    "\n",
    "\n",
    "class Dog:\n",
    "    \"\"\"\n",
    "    Module 1 ......lorem ipsum doler (details about the program)\n",
    "    The program has the following classes:\n",
    "    -Dog\n",
    "    \"\"\"\n",
    "    \"\"\"This is class which represensts a dog.\"\"\"\n",
    "    def __init__(self, name , age):\n",
    "        \"\"\"Initializes a new dog object\"\"\"\n",
    "        self.name = name\n",
    "        self.age = age\n",
    "    def bark():\n",
    "        \"\"\"This commands the dog to bark\"\"\"\n",
    "        print(\"WOOOF\")\n",
    "        \n",
    "# Now if we want to know what this code does , we can simply type the below command:\n",
    "print(help(Dog)) # Gives the details of the class using doc strings\n"
   ]
  },
  {
   "cell_type": "markdown",
   "id": "0cf54a79",
   "metadata": {},
   "source": [
    "# Handling Exceptions in Python"
   ]
  },
  {
   "cell_type": "code",
   "execution_count": 20,
   "id": "cfa1b438",
   "metadata": {},
   "outputs": [
    {
     "name": "stdout",
     "output_type": "stream",
     "text": [
      "Cannot divide by zero\n",
      "0\n"
     ]
    }
   ],
   "source": [
    "# There might be some scenarios where the code we write may throw an error and interupts the program.\n",
    "# Therefore we must know how to handle such situations in python. We can do this by try and except block.\n",
    "# Example : below is code which handles an error when a number is divided by zero.\n",
    "try:\n",
    "    result = 2/0\n",
    "except ZeroDivisionError :             # We have to write error name after 'except' keyword. \n",
    "    print(\"Cannot divide by zero\")\n",
    "finally:                               # Will execute at last everytime if error is there not not.\n",
    "    result=0\n",
    "print(result)\n",
    "\n",
    "# We can also add an else block before finally depending on our use case.\n"
   ]
  },
  {
   "cell_type": "code",
   "execution_count": 23,
   "id": "6c87a3bb",
   "metadata": {},
   "outputs": [
    {
     "name": "stdout",
     "output_type": "stream",
     "text": [
      "An error occured\n",
      "\n",
      "----------------------------------------------------\n",
      "\n",
      "Write any code depending on usage here or skip it.\n",
      "No Dog found\n"
     ]
    }
   ],
   "source": [
    "# We can also raise our own exceptions using 'raise' keyword and then handle it. EG :\n",
    "try:\n",
    "    raise Exception(\"An error occured\")\n",
    "except Exception as error:\n",
    "    print(error)\n",
    "    \n",
    "print(\"\\n----------------------------------------------------\\n\")\n",
    "\n",
    "#Ex 2:\n",
    "class DogNotFoundException(Exception):\n",
    "    print(\"Write any code depending on usage here or skip it.\")\n",
    "    pass \n",
    "try:\n",
    "    raise DogNotFoundException()\n",
    "except DogNotFoundException:\n",
    "    print(\"No Dog found\")"
   ]
  },
  {
   "cell_type": "markdown",
   "id": "80fbcf89",
   "metadata": {},
   "source": [
    "# List Compression"
   ]
  },
  {
   "cell_type": "code",
   "execution_count": 24,
   "id": "923b50d7",
   "metadata": {},
   "outputs": [
    {
     "name": "stdout",
     "output_type": "stream",
     "text": [
      "[1, 4, 9, 16, 25, 36, 49, 64]\n"
     ]
    }
   ],
   "source": [
    "numbers = [1,2,3,4,5,6,7,8]\n",
    "numbers_power_2 = [n**2 for n in numbers]  # Syntax : [<Operation we need to perform>]\n",
    "print(numbers_power_2)\n",
    "\n",
    "# It makes our code short and more readable."
   ]
  }
 ],
 "metadata": {
  "kernelspec": {
   "display_name": "Python 3 (ipykernel)",
   "language": "python",
   "name": "python3"
  },
  "language_info": {
   "codemirror_mode": {
    "name": "ipython",
    "version": 3
   },
   "file_extension": ".py",
   "mimetype": "text/x-python",
   "name": "python",
   "nbconvert_exporter": "python",
   "pygments_lexer": "ipython3",
   "version": "3.11.5"
  }
 },
 "nbformat": 4,
 "nbformat_minor": 5
}
