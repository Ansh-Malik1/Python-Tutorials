{
 "cells": [
  {
   "cell_type": "markdown",
   "id": "2a18b86d",
   "metadata": {},
   "source": [
    "# Intermediate part 2"
   ]
  },
  {
   "cell_type": "markdown",
   "id": "89529633",
   "metadata": {},
   "source": [
    "## JSON\n",
    "<p> JSON stands for 'JavaScript Object Notation' and it is a lightweighted data format used for data exchange. It is used heavily in web applications. Python comes with a built in JSON module that makes the working of JSON on python easy</p>"
   ]
  },
  {
   "cell_type": "markdown",
   "id": "214dd2a3",
   "metadata": {},
   "source": [
    "### Python data types and their JSON equivalent\n",
    "<table>\n",
    "    <tr>\n",
    "        <th>Python</th>\n",
    "        <th>JSON</th>\n",
    "    </tr>\n",
    "    <tr>\n",
    "        <td>Dictionaries</td>\n",
    "        <td>Object</td>\n",
    "    </tr>\n",
    "    <tr>\n",
    "        <td>String</td>\n",
    "        <td>String</td>\n",
    "    </tr>\n",
    "    <tr>\n",
    "        <td>int,float</td>\n",
    "        <td>number</td>\n",
    "    </tr>\n",
    "    <tr>\n",
    "        <td>list,tuple</td>\n",
    "        <td>array</td>\n",
    "    </tr>\n",
    "    <tr>\n",
    "        <td>True</td>\n",
    "        <td>true</td>\n",
    "    </tr>\n",
    "    <tr>\n",
    "        <td>False</td>\n",
    "        <td>false</td>\n",
    "    </tr>\n",
    "    <tr>\n",
    "        <td>None</td>\n",
    "        <td>null</td>\n",
    "    </tr>"
   ]
  },
  {
   "cell_type": "markdown",
   "id": "0dbf2976",
   "metadata": {},
   "source": [
    "### Serialisation/Encoding : converting python data into json format"
   ]
  },
  {
   "cell_type": "code",
   "execution_count": 1,
   "id": "6bbb31d2",
   "metadata": {},
   "outputs": [
    {
     "name": "stdout",
     "output_type": "stream",
     "text": [
      "{\n",
      "    \"age\"=19;\n",
      "    \"isStudent\"=true;\n",
      "    \"name\"=\"Ansh\";\n",
      "    \"state\"=\"Delhi\";\n",
      "    \"titles\"=[\n",
      "        \"student\";\n",
      "        \"aiml enthusiast\"\n",
      "    ]\n",
      "}\n"
     ]
    }
   ],
   "source": [
    "import json\n",
    "person={\"name\":\"Ansh\",\"age\":19,\"state\":\"Delhi\",\"isStudent\":True,\"titles\":[\"student\",\"aiml enthusiast\"]}\n",
    "personJSON = json.dumps(person,indent=4,separators=(';','='),sort_keys=True) #separators,sort_keys and indent change the formatting of our output\n",
    "print(personJSON)"
   ]
  },
  {
   "cell_type": "markdown",
   "id": "c2025ce3",
   "metadata": {},
   "source": [
    "<p> We can now write this data in a file using the syntax below:</p>"
   ]
  },
  {
   "cell_type": "code",
   "execution_count": null,
   "id": "91d015b7",
   "metadata": {},
   "outputs": [],
   "source": [
    "'''\n",
    "with open('person.json','w') as file :\n",
    "    json.dump(person,file)\n",
    "    \n",
    "A new file will be created in the same directory as of the main file when working in an IDE\n",
    "'''"
   ]
  },
  {
   "cell_type": "markdown",
   "id": "63119e6d",
   "metadata": {},
   "source": [
    "## Decoding"
   ]
  },
  {
   "cell_type": "code",
   "execution_count": 39,
   "id": "d9e60fc9",
   "metadata": {},
   "outputs": [
    {
     "data": {
      "text/plain": [
       "['foo', {'bar': ['baz', None, 1.0, 2]}]"
      ]
     },
     "execution_count": 39,
     "metadata": {},
     "output_type": "execute_result"
    }
   ],
   "source": [
    "json.loads('[\"foo\", {\"bar\":[\"baz\", null, 1.0, 2]}]')\n"
   ]
  },
  {
   "cell_type": "markdown",
   "id": "e61672f8",
   "metadata": {},
   "source": [
    "### Encoding our own defined classes into JSON format"
   ]
  },
  {
   "cell_type": "code",
   "execution_count": 2,
   "id": "df06c4f0",
   "metadata": {},
   "outputs": [
    {
     "ename": "TypeError",
     "evalue": "Object of type user is not JSON serializable",
     "output_type": "error",
     "traceback": [
      "\u001b[1;31m---------------------------------------------------------------------------\u001b[0m",
      "\u001b[1;31mTypeError\u001b[0m                                 Traceback (most recent call last)",
      "Cell \u001b[1;32mIn[2], line 8\u001b[0m\n\u001b[0;32m      4\u001b[0m         \u001b[38;5;28mself\u001b[39m\u001b[38;5;241m.\u001b[39mage\u001b[38;5;241m=\u001b[39mage\n\u001b[0;32m      6\u001b[0m user1 \u001b[38;5;241m=\u001b[39m user(\u001b[38;5;124m\"\u001b[39m\u001b[38;5;124mAnsh\u001b[39m\u001b[38;5;124m\"\u001b[39m,\u001b[38;5;241m19\u001b[39m)\n\u001b[1;32m----> 8\u001b[0m userJson \u001b[38;5;241m=\u001b[39m json\u001b[38;5;241m.\u001b[39mdumps(user1)\n",
      "File \u001b[1;32m~\\anaconda3\\Lib\\json\\__init__.py:231\u001b[0m, in \u001b[0;36mdumps\u001b[1;34m(obj, skipkeys, ensure_ascii, check_circular, allow_nan, cls, indent, separators, default, sort_keys, **kw)\u001b[0m\n\u001b[0;32m    226\u001b[0m \u001b[38;5;66;03m# cached encoder\u001b[39;00m\n\u001b[0;32m    227\u001b[0m \u001b[38;5;28;01mif\u001b[39;00m (\u001b[38;5;129;01mnot\u001b[39;00m skipkeys \u001b[38;5;129;01mand\u001b[39;00m ensure_ascii \u001b[38;5;129;01mand\u001b[39;00m\n\u001b[0;32m    228\u001b[0m     check_circular \u001b[38;5;129;01mand\u001b[39;00m allow_nan \u001b[38;5;129;01mand\u001b[39;00m\n\u001b[0;32m    229\u001b[0m     \u001b[38;5;28mcls\u001b[39m \u001b[38;5;129;01mis\u001b[39;00m \u001b[38;5;28;01mNone\u001b[39;00m \u001b[38;5;129;01mand\u001b[39;00m indent \u001b[38;5;129;01mis\u001b[39;00m \u001b[38;5;28;01mNone\u001b[39;00m \u001b[38;5;129;01mand\u001b[39;00m separators \u001b[38;5;129;01mis\u001b[39;00m \u001b[38;5;28;01mNone\u001b[39;00m \u001b[38;5;129;01mand\u001b[39;00m\n\u001b[0;32m    230\u001b[0m     default \u001b[38;5;129;01mis\u001b[39;00m \u001b[38;5;28;01mNone\u001b[39;00m \u001b[38;5;129;01mand\u001b[39;00m \u001b[38;5;129;01mnot\u001b[39;00m sort_keys \u001b[38;5;129;01mand\u001b[39;00m \u001b[38;5;129;01mnot\u001b[39;00m kw):\n\u001b[1;32m--> 231\u001b[0m     \u001b[38;5;28;01mreturn\u001b[39;00m _default_encoder\u001b[38;5;241m.\u001b[39mencode(obj)\n\u001b[0;32m    232\u001b[0m \u001b[38;5;28;01mif\u001b[39;00m \u001b[38;5;28mcls\u001b[39m \u001b[38;5;129;01mis\u001b[39;00m \u001b[38;5;28;01mNone\u001b[39;00m:\n\u001b[0;32m    233\u001b[0m     \u001b[38;5;28mcls\u001b[39m \u001b[38;5;241m=\u001b[39m JSONEncoder\n",
      "File \u001b[1;32m~\\anaconda3\\Lib\\json\\encoder.py:200\u001b[0m, in \u001b[0;36mJSONEncoder.encode\u001b[1;34m(self, o)\u001b[0m\n\u001b[0;32m    196\u001b[0m         \u001b[38;5;28;01mreturn\u001b[39;00m encode_basestring(o)\n\u001b[0;32m    197\u001b[0m \u001b[38;5;66;03m# This doesn't pass the iterator directly to ''.join() because the\u001b[39;00m\n\u001b[0;32m    198\u001b[0m \u001b[38;5;66;03m# exceptions aren't as detailed.  The list call should be roughly\u001b[39;00m\n\u001b[0;32m    199\u001b[0m \u001b[38;5;66;03m# equivalent to the PySequence_Fast that ''.join() would do.\u001b[39;00m\n\u001b[1;32m--> 200\u001b[0m chunks \u001b[38;5;241m=\u001b[39m \u001b[38;5;28mself\u001b[39m\u001b[38;5;241m.\u001b[39miterencode(o, _one_shot\u001b[38;5;241m=\u001b[39m\u001b[38;5;28;01mTrue\u001b[39;00m)\n\u001b[0;32m    201\u001b[0m \u001b[38;5;28;01mif\u001b[39;00m \u001b[38;5;129;01mnot\u001b[39;00m \u001b[38;5;28misinstance\u001b[39m(chunks, (\u001b[38;5;28mlist\u001b[39m, \u001b[38;5;28mtuple\u001b[39m)):\n\u001b[0;32m    202\u001b[0m     chunks \u001b[38;5;241m=\u001b[39m \u001b[38;5;28mlist\u001b[39m(chunks)\n",
      "File \u001b[1;32m~\\anaconda3\\Lib\\json\\encoder.py:258\u001b[0m, in \u001b[0;36mJSONEncoder.iterencode\u001b[1;34m(self, o, _one_shot)\u001b[0m\n\u001b[0;32m    253\u001b[0m \u001b[38;5;28;01melse\u001b[39;00m:\n\u001b[0;32m    254\u001b[0m     _iterencode \u001b[38;5;241m=\u001b[39m _make_iterencode(\n\u001b[0;32m    255\u001b[0m         markers, \u001b[38;5;28mself\u001b[39m\u001b[38;5;241m.\u001b[39mdefault, _encoder, \u001b[38;5;28mself\u001b[39m\u001b[38;5;241m.\u001b[39mindent, floatstr,\n\u001b[0;32m    256\u001b[0m         \u001b[38;5;28mself\u001b[39m\u001b[38;5;241m.\u001b[39mkey_separator, \u001b[38;5;28mself\u001b[39m\u001b[38;5;241m.\u001b[39mitem_separator, \u001b[38;5;28mself\u001b[39m\u001b[38;5;241m.\u001b[39msort_keys,\n\u001b[0;32m    257\u001b[0m         \u001b[38;5;28mself\u001b[39m\u001b[38;5;241m.\u001b[39mskipkeys, _one_shot)\n\u001b[1;32m--> 258\u001b[0m \u001b[38;5;28;01mreturn\u001b[39;00m _iterencode(o, \u001b[38;5;241m0\u001b[39m)\n",
      "File \u001b[1;32m~\\anaconda3\\Lib\\json\\encoder.py:180\u001b[0m, in \u001b[0;36mJSONEncoder.default\u001b[1;34m(self, o)\u001b[0m\n\u001b[0;32m    161\u001b[0m \u001b[38;5;28;01mdef\u001b[39;00m \u001b[38;5;21mdefault\u001b[39m(\u001b[38;5;28mself\u001b[39m, o):\n\u001b[0;32m    162\u001b[0m \u001b[38;5;250m    \u001b[39m\u001b[38;5;124;03m\"\"\"Implement this method in a subclass such that it returns\u001b[39;00m\n\u001b[0;32m    163\u001b[0m \u001b[38;5;124;03m    a serializable object for ``o``, or calls the base implementation\u001b[39;00m\n\u001b[0;32m    164\u001b[0m \u001b[38;5;124;03m    (to raise a ``TypeError``).\u001b[39;00m\n\u001b[1;32m   (...)\u001b[0m\n\u001b[0;32m    178\u001b[0m \n\u001b[0;32m    179\u001b[0m \u001b[38;5;124;03m    \"\"\"\u001b[39;00m\n\u001b[1;32m--> 180\u001b[0m     \u001b[38;5;28;01mraise\u001b[39;00m \u001b[38;5;167;01mTypeError\u001b[39;00m(\u001b[38;5;124mf\u001b[39m\u001b[38;5;124m'\u001b[39m\u001b[38;5;124mObject of type \u001b[39m\u001b[38;5;132;01m{\u001b[39;00mo\u001b[38;5;241m.\u001b[39m\u001b[38;5;18m__class__\u001b[39m\u001b[38;5;241m.\u001b[39m\u001b[38;5;18m__name__\u001b[39m\u001b[38;5;132;01m}\u001b[39;00m\u001b[38;5;124m \u001b[39m\u001b[38;5;124m'\u001b[39m\n\u001b[0;32m    181\u001b[0m                     \u001b[38;5;124mf\u001b[39m\u001b[38;5;124m'\u001b[39m\u001b[38;5;124mis not JSON serializable\u001b[39m\u001b[38;5;124m'\u001b[39m)\n",
      "\u001b[1;31mTypeError\u001b[0m: Object of type user is not JSON serializable"
     ]
    }
   ],
   "source": [
    "class user:\n",
    "    def __init__(self,name,age):\n",
    "        self.name=name\n",
    "        self.age=age\n",
    "\n",
    "user1 = user(\"Ansh\",19)\n",
    "\n",
    "userJson = json.dumps(user1)\n",
    "# It will give error. To convert it, we need to make our own custom encoding function"
   ]
  },
  {
   "cell_type": "code",
   "execution_count": 48,
   "id": "72375572",
   "metadata": {},
   "outputs": [
    {
     "name": "stdout",
     "output_type": "stream",
     "text": [
      "{\"name\": \"Ansh\", \"age\": 19, \"user\": true}\n"
     ]
    }
   ],
   "source": [
    "class user:\n",
    "    def __init__(self,name,age):\n",
    "        self.name=name\n",
    "        self.age=age\n",
    "\n",
    "user1 = user(\"Ansh\",19)\n",
    "\n",
    "def encode_user(o):\n",
    "    if isinstance(o,user):\n",
    "        return {'name':o.name , 'age':o.age , o.__class__.__name__:True}\n",
    "\n",
    "userJson = json.dumps(user1 , default=encode_user)\n",
    "print(userJson)\n",
    "    "
   ]
  },
  {
   "cell_type": "code",
   "execution_count": 55,
   "id": "1661c08c",
   "metadata": {},
   "outputs": [
    {
     "name": "stdout",
     "output_type": "stream",
     "text": [
      "{\"name\": \"Ansh\", \"age\": 19, \"user\": true}\n",
      "\n",
      "--------------\n",
      "\n",
      "{'name': 'Ansh', 'age': 19, 'user': True}\n"
     ]
    }
   ],
   "source": [
    "# Method 2\n",
    "from json import JSONEncoder\n",
    "class userEncoder(JSONEncoder):\n",
    "    def default(self,o):\n",
    "        if isinstance(o,user):\n",
    "                return {'name':o.name , 'age':o.age , o.__class__.__name__:True}\n",
    "        return JSONEncoder.default(self,o)\n",
    "    \n",
    "userJson2 = userEncoder().encode(user1)\n",
    "print(userJson2)\n",
    "\n",
    "print('\\n--------------\\n')\n",
    "\n",
    "user_decoded = json.loads(userJson2)\n",
    "print(user_decoded)"
   ]
  },
  {
   "cell_type": "markdown",
   "id": "6635b160",
   "metadata": {},
   "source": [
    "## Random numbers"
   ]
  },
  {
   "cell_type": "markdown",
   "id": "168483c3",
   "metadata": {},
   "source": [
    "<p>Python has a library called 'random' which is used to generate random numbers and can be beneficial in various cases</p>"
   ]
  },
  {
   "cell_type": "code",
   "execution_count": 64,
   "id": "755ddae3",
   "metadata": {},
   "outputs": [
    {
     "name": "stdout",
     "output_type": "stream",
     "text": [
      "0.7043441181447953\n"
     ]
    }
   ],
   "source": [
    "import random\n",
    "a = random.random()\n",
    "print(a)  # prints a random value of a between 0 to 1 evertime it runs"
   ]
  },
  {
   "cell_type": "code",
   "execution_count": 67,
   "id": "d439dc59",
   "metadata": {},
   "outputs": [
    {
     "name": "stdout",
     "output_type": "stream",
     "text": [
      "7.519042074635048\n"
     ]
    }
   ],
   "source": [
    "b = random.uniform(1,10)\n",
    "print(b)  # prints a random value between 1 to 10"
   ]
  },
  {
   "cell_type": "code",
   "execution_count": 85,
   "id": "acf5ceed",
   "metadata": {},
   "outputs": [
    {
     "name": "stdout",
     "output_type": "stream",
     "text": [
      "7\n"
     ]
    }
   ],
   "source": [
    "c = random.randint(1,10)\n",
    "print(c)  # prints a random integer value between 1 to 10 (1 and 10 included)"
   ]
  },
  {
   "cell_type": "code",
   "execution_count": 86,
   "id": "02f6b5ad",
   "metadata": {},
   "outputs": [
    {
     "name": "stdout",
     "output_type": "stream",
     "text": [
      "1\n"
     ]
    }
   ],
   "source": [
    "d = random.randrange(1,10)\n",
    "print(d)  # prints a random integer between 1 to 10 with 10 excluded"
   ]
  },
  {
   "cell_type": "code",
   "execution_count": 87,
   "id": "6c91b3c0",
   "metadata": {},
   "outputs": [
    {
     "name": "stdout",
     "output_type": "stream",
     "text": [
      "0.7782917036652018\n"
     ]
    }
   ],
   "source": [
    "e = random.normalvariate(0,1) # generates a random value of a normal distribution with mean=0 and S.D=1\n",
    "print(e)"
   ]
  },
  {
   "cell_type": "code",
   "execution_count": 116,
   "id": "a208c3cd",
   "metadata": {},
   "outputs": [
    {
     "name": "stdout",
     "output_type": "stream",
     "text": [
      "G\n"
     ]
    }
   ],
   "source": [
    "f=list('ABCDEFGHIJK')\n",
    "print(random.choice(f)) # prints a random element of the list 'f'"
   ]
  },
  {
   "cell_type": "code",
   "execution_count": 106,
   "id": "47d9e2b0",
   "metadata": {
    "scrolled": true
   },
   "outputs": [
    {
     "name": "stdout",
     "output_type": "stream",
     "text": [
      "['I', 'I', 'C']\n"
     ]
    }
   ],
   "source": [
    "smpl2 = random.choices(f,k=3)  # generates a random of 3 from list 'f' but a element can occur more than once\n",
    "print(smpl2)"
   ]
  },
  {
   "cell_type": "code",
   "execution_count": 96,
   "id": "6e01a094",
   "metadata": {},
   "outputs": [
    {
     "name": "stdout",
     "output_type": "stream",
     "text": [
      "['C', 'J', 'F']\n"
     ]
    }
   ],
   "source": [
    "smpl = random.sample(f,3) # generates a random sample of 3 from list 'f' with each element being chosen once\n",
    "print(smpl)"
   ]
  },
  {
   "cell_type": "code",
   "execution_count": 123,
   "id": "7a6561dc",
   "metadata": {},
   "outputs": [
    {
     "name": "stdout",
     "output_type": "stream",
     "text": [
      "['E', 'H', 'F', 'C', 'D', 'I', 'K', 'J', 'G', 'A', 'B']\n"
     ]
    }
   ],
   "source": [
    "g=f.copy()\n",
    "random.shuffle(g) # randomly shuffles the list 'g'\n",
    "print(g)"
   ]
  },
  {
   "cell_type": "markdown",
   "id": "bb934606",
   "metadata": {},
   "source": [
    "<p> The examples of random numbers we did above are 'pseudo' random numbers because they can be reproduced by the following method </p>"
   ]
  },
  {
   "cell_type": "code",
   "execution_count": 139,
   "id": "ce81c9f8",
   "metadata": {},
   "outputs": [
    {
     "name": "stdout",
     "output_type": "stream",
     "text": [
      "3\n",
      "1\n",
      "3\n"
     ]
    }
   ],
   "source": [
    "random.seed(1)\n",
    "print(random.randint(1,10))\n",
    "\n",
    "random.seed(2)\n",
    "print(random.randint(1,10))\n",
    "\n",
    "random.seed(1)\n",
    "print(random.randint(1,10))"
   ]
  },
  {
   "cell_type": "markdown",
   "id": "e3f05d82",
   "metadata": {},
   "source": [
    "<p> The above block of code will generate the same output irrespective of the trials. This is because we have used 'random.seed' method. This method holds the value of a random number due to this the data can be reproduced which is why it is not recommended to use it for security purposes. For security purposes, we use 'secret' module offered by python </p>"
   ]
  },
  {
   "cell_type": "code",
   "execution_count": 150,
   "id": "caacc314",
   "metadata": {},
   "outputs": [
    {
     "name": "stdout",
     "output_type": "stream",
     "text": [
      "9\n"
     ]
    }
   ],
   "source": [
    "import secrets\n",
    "a = secrets.randbelow(10)  # prints random integer between 0 to 10 with 10 being the excluded value\n",
    "print(a)"
   ]
  },
  {
   "cell_type": "code",
   "execution_count": 161,
   "id": "63501232",
   "metadata": {},
   "outputs": [
    {
     "name": "stdout",
     "output_type": "stream",
     "text": [
      "4\n"
     ]
    }
   ],
   "source": [
    "b = secrets.randbits(4)\n",
    "print(b)  # generates a random 4 byte number "
   ]
  },
  {
   "cell_type": "code",
   "execution_count": 167,
   "id": "ea3e6a8f",
   "metadata": {},
   "outputs": [
    {
     "name": "stdout",
     "output_type": "stream",
     "text": [
      "A\n"
     ]
    }
   ],
   "source": [
    "c = list('ABCDEFGHIJ')\n",
    "print(secrets.choice(c))"
   ]
  },
  {
   "cell_type": "markdown",
   "id": "a5784337",
   "metadata": {},
   "source": [
    "## Python Decorators"
   ]
  },
  {
   "cell_type": "markdown",
   "id": "cdb51070",
   "metadata": {},
   "source": [
    "<p>A decorator is a function that takes another function and extends the behavior of this function without explicitly modifying it. It is a very powerful tool that allows to add new functionality to an existing function.\n",
    "There are 2 kinds of decorators:</p>\n",
    "<ul>\n",
    "    <li>Class decorators</li>\n",
    "    <li>Function Decorators</li>\n",
    "</ul>\n",
    "    \n",
    "   "
   ]
  },
  {
   "cell_type": "code",
   "execution_count": null,
   "id": "91ba59e6",
   "metadata": {},
   "outputs": [],
   "source": [
    "# Basic syntax of decoratos:\n",
    "@decorator_trial\n",
    "def dummyFunction():\n",
    "    pass"
   ]
  },
  {
   "cell_type": "code",
   "execution_count": 9,
   "id": "1ba5f023",
   "metadata": {},
   "outputs": [
    {
     "name": "stdout",
     "output_type": "stream",
     "text": [
      "start\n",
      "Ansh Malik\n",
      "end\n"
     ]
    }
   ],
   "source": [
    "# Example of decorators:\n",
    "\n",
    "def start_end_decorator(func):\n",
    "    \n",
    "    def wrapper():\n",
    "        # Before\n",
    "        print('start')\n",
    "        func()\n",
    "        # After\n",
    "        print('end')\n",
    "    return wrapper\n",
    "\n",
    "def print_name():\n",
    "    print(\"Ansh Malik\")\n",
    "    \n",
    "print_name = start_end_decorator(print_name)  # The decorator works the same way, it implements this line of code\n",
    "\n",
    "print_name()"
   ]
  },
  {
   "cell_type": "code",
   "execution_count": 10,
   "id": "76da52f0",
   "metadata": {},
   "outputs": [
    {
     "name": "stdout",
     "output_type": "stream",
     "text": [
      "start\n",
      "Hello\n",
      "end\n"
     ]
    }
   ],
   "source": [
    "@start_end_decorator\n",
    "def print_hello():\n",
    "    print(\"Hello\")\n",
    "\n",
    "print_hello()"
   ]
  },
  {
   "cell_type": "markdown",
   "id": "a6bab3fb",
   "metadata": {},
   "source": [
    "<p> Note : The above code will not work properly and will throw error if our function has some arguments in it. Therefore we can make a optimised decorator by the following way : </p>"
   ]
  },
  {
   "cell_type": "code",
   "execution_count": 11,
   "id": "df36f072",
   "metadata": {},
   "outputs": [
    {
     "name": "stdout",
     "output_type": "stream",
     "text": [
      "Start\n",
      "Hello Ansh\n",
      "End\n"
     ]
    }
   ],
   "source": [
    "def decorator(func):\n",
    "    def wrapper(*args , **kwargs):\n",
    "        print(\"Start\")\n",
    "        func(*args,**kwargs)\n",
    "        print(\"End\")\n",
    "    return wrapper\n",
    "\n",
    "@decorator\n",
    "def greet(x):\n",
    "    print(f'Hello {x}')\n",
    "    \n",
    "greet(\"Ansh\")"
   ]
  },
  {
   "cell_type": "code",
   "execution_count": 13,
   "id": "9e944928",
   "metadata": {},
   "outputs": [
    {
     "name": "stdout",
     "output_type": "stream",
     "text": [
      "Start\n",
      "End\n",
      "11\n",
      "\n",
      "--------------------\n",
      "\n",
      "Help on function wrapper in module __main__:\n",
      "\n",
      "wrapper(*args, **kwargs)\n",
      "\n",
      "None\n",
      "wrapper\n"
     ]
    }
   ],
   "source": [
    "def start_end_decorator2(func):\n",
    "    def wrapper(*args,**kwargs):\n",
    "        print('Start')\n",
    "        result = func(*args,**kwargs)\n",
    "        print('End')\n",
    "        return result\n",
    "    return wrapper\n",
    "\n",
    "@start_end_decorator2\n",
    "def add1(x):\n",
    "    return x+1\n",
    "\n",
    "result=add1(10)\n",
    "print(result)\n",
    "\n",
    "print('\\n--------------------\\n')\n",
    "\n",
    "print(help(add1))\n",
    "print(add1.__name__)"
   ]
  },
  {
   "cell_type": "markdown",
   "id": "2d7f7ea5",
   "metadata": {},
   "source": [
    "<p> We can see that python got confused between the identity of 'add1' function and wrapper function as it says that the name of the 'add1' function is 'wrapper'. Therefore we can fix it using a inbuilt python module called <strong>'functools'</strong></p>"
   ]
  },
  {
   "cell_type": "code",
   "execution_count": 16,
   "id": "a0ecb11e",
   "metadata": {},
   "outputs": [
    {
     "name": "stdout",
     "output_type": "stream",
     "text": [
      "add1\n"
     ]
    }
   ],
   "source": [
    "import functools\n",
    "def start_end_decorator2(func):\n",
    "    \n",
    "    @functools.wraps(func)\n",
    "    def wrapper(*args,**kwargs):\n",
    "        print('Start')\n",
    "        result = func(*args,**kwargs)\n",
    "        print('End')\n",
    "        return result\n",
    "    return wrapper\n",
    "\n",
    "@start_end_decorator2\n",
    "def add1(x):\n",
    "    return x+1\n",
    "\n",
    "print(add1.__name__)"
   ]
  },
  {
   "cell_type": "markdown",
   "id": "01d82d29",
   "metadata": {},
   "source": [
    "<p> Now we can see that the function is identified correctly. Therefore the above written code can be used as a template for writting decorators</p>"
   ]
  },
  {
   "cell_type": "markdown",
   "id": "eae7c69c",
   "metadata": {},
   "source": [
    "<p> If our decorator function also takes an argument, then we can write the code as below:</p>"
   ]
  },
  {
   "cell_type": "code",
   "execution_count": 25,
   "id": "85881c62",
   "metadata": {},
   "outputs": [
    {
     "name": "stdout",
     "output_type": "stream",
     "text": [
      "Hello Ansh\n",
      "Hello Ansh\n",
      "Hello Ansh\n",
      "Hello Ansh\n",
      "Hello Ansh\n"
     ]
    }
   ],
   "source": [
    "def repeat(num):\n",
    "    def decorator_repeat(func):\n",
    "        @functools.wraps(func)\n",
    "        def wrapper(*args,**kwargs):\n",
    "            for _  in range(num):\n",
    "                result=func(*args,**kwargs)\n",
    "            return result\n",
    "        return wrapper\n",
    "    return decorator_repeat\n",
    "\n",
    "@repeat(num=5)\n",
    "def greet(x):\n",
    "    print(f'Hello {x}')\n",
    "    \n",
    "greet('Ansh')"
   ]
  },
  {
   "cell_type": "markdown",
   "id": "1cbf8786",
   "metadata": {},
   "source": [
    "<p> We can also have nested decorators and class decorators</p>"
   ]
  },
  {
   "cell_type": "markdown",
   "id": "fad2c625",
   "metadata": {},
   "source": [
    "## Generators"
   ]
  },
  {
   "cell_type": "markdown",
   "id": "726d806e",
   "metadata": {},
   "source": [
    "<p>Generators are functions that can be paused and resumed on the fly, returning an object that can be iterated over. Unlike lists, they are lazy and thus produce items one at a time and only when asked. So they are much more memory efficient when dealing with large datasets.\n",
    "A generator is defined like a normal function but with the yield statement instead of return.</p>"
   ]
  },
  {
   "cell_type": "code",
   "execution_count": 26,
   "id": "38f5aca9",
   "metadata": {},
   "outputs": [],
   "source": [
    "# basic syntax of a generator:\n",
    "\n",
    "def generator():\n",
    "    yield 1\n",
    "    yield 2\n",
    "    yield 3"
   ]
  },
  {
   "cell_type": "markdown",
   "id": "ea484472",
   "metadata": {},
   "source": [
    "<p>Calling the function does not execute it. Instead, the function returns a generator object which is used to control execution. Generator objects execute when next() is called. When calling next() the first time, execution begins at the start of the function and continues until the first yield statement where the value to the right of the statement is returned. Subsequent calls to next() continue from the yield statement (and loop around) until another yield is reached. If yield is not called because of a condition or the end is reached, a StopIteration exception is raised:</p>"
   ]
  },
  {
   "cell_type": "code",
   "execution_count": 27,
   "id": "8e90ff3f",
   "metadata": {},
   "outputs": [
    {
     "name": "stdout",
     "output_type": "stream",
     "text": [
      "Starting\n",
      "3\n",
      "2\n",
      "1\n"
     ]
    },
    {
     "ename": "StopIteration",
     "evalue": "",
     "output_type": "error",
     "traceback": [
      "\u001b[1;31m---------------------------------------------------------------------------\u001b[0m",
      "\u001b[1;31mStopIteration\u001b[0m                             Traceback (most recent call last)",
      "Cell \u001b[1;32mIn[27], line 18\u001b[0m\n\u001b[0;32m     15\u001b[0m \u001b[38;5;28mprint\u001b[39m(\u001b[38;5;28mnext\u001b[39m(cd))\n\u001b[0;32m     17\u001b[0m \u001b[38;5;66;03m# this will raise a StopIteration\u001b[39;00m\n\u001b[1;32m---> 18\u001b[0m \u001b[38;5;28mprint\u001b[39m(\u001b[38;5;28mnext\u001b[39m(cd))\n",
      "\u001b[1;31mStopIteration\u001b[0m: "
     ]
    }
   ],
   "source": [
    "def countdown(num):\n",
    "    print('Starting')\n",
    "    while num > 0:\n",
    "        yield num\n",
    "        num -= 1\n",
    "\n",
    "# this will not print 'Starting'\n",
    "cd = countdown(3)\n",
    "\n",
    "# this will print 'Starting' and the first value\n",
    "print(next(cd))\n",
    "\n",
    "# will print the next values\n",
    "print(next(cd))\n",
    "print(next(cd))\n",
    "\n",
    "# this will raise a StopIteration\n",
    "print(next(cd))"
   ]
  },
  {
   "cell_type": "markdown",
   "id": "c7369064",
   "metadata": {},
   "source": [
    "<p>Generators are <strong>more memory effecient</strong> in many cases spcially when we are workking over a large data set, the following example shows this: \n",
    "</p>"
   ]
  },
  {
   "cell_type": "code",
   "execution_count": 29,
   "id": "b417f00c",
   "metadata": {},
   "outputs": [
    {
     "name": "stdout",
     "output_type": "stream",
     "text": [
      "Size without using generators:\n",
      "8448728 bytes\n",
      "\n",
      "-----------------------------\n",
      "\n",
      "Size while using generators:\n",
      "200 bytes\n"
     ]
    }
   ],
   "source": [
    "import sys\n",
    "print(\"Size without using generators:\")\n",
    "def firstn(n):\n",
    "    num, nums = 0, []\n",
    "    while num < n:\n",
    "        nums.append(num)\n",
    "        num += 1\n",
    "    return nums\n",
    "\n",
    "sum_of_first_n = sum(firstn(1000000))\n",
    "\n",
    "print(sys.getsizeof(firstn(1000000)), \"bytes\")\n",
    "\n",
    "print(\"\\n-----------------------------\\n\")\n",
    "\n",
    "print(\"Size while using generators:\")\n",
    "def firstn(n):\n",
    "    num = 0\n",
    "    while num < n:\n",
    "        yield num\n",
    "        num += 1\n",
    "\n",
    "sum_of_first_n = sum(firstn(1000000))\n",
    "print(sys.getsizeof(firstn(1000000)), \"bytes\")\n",
    "     "
   ]
  },
  {
   "cell_type": "markdown",
   "id": "7295caf3",
   "metadata": {},
   "source": [
    "<p><strong>Generator expressions:</strong> These are the same as list comprehension but as discussed earlier, they save much more space. Generator expressions are written inside a noraml brakcet '()' while list comprehension is written inside '[]'</p>"
   ]
  },
  {
   "cell_type": "code",
   "execution_count": 31,
   "id": "a420f3fa",
   "metadata": {},
   "outputs": [
    {
     "name": "stdout",
     "output_type": "stream",
     "text": [
      "208\n",
      "444376\n"
     ]
    }
   ],
   "source": [
    "# generator expression\n",
    "mygenerator = (i for i in range(100000) if i % 2 == 0)\n",
    "print(sys.getsizeof(mygenerator))\n",
    "\n",
    "# list comprehension\n",
    "mylist = [i for i in range(100000) if i % 2 == 0]\n",
    "print(sys.getsizeof(mylist))\n",
    "     "
   ]
  }
 ],
 "metadata": {
  "kernelspec": {
   "display_name": "Python 3 (ipykernel)",
   "language": "python",
   "name": "python3"
  },
  "language_info": {
   "codemirror_mode": {
    "name": "ipython",
    "version": 3
   },
   "file_extension": ".py",
   "mimetype": "text/x-python",
   "name": "python",
   "nbconvert_exporter": "python",
   "pygments_lexer": "ipython3",
   "version": "3.11.5"
  }
 },
 "nbformat": 4,
 "nbformat_minor": 5
}
