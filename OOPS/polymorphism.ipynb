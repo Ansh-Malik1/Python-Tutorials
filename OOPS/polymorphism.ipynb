{
 "cells": [
  {
   "cell_type": "markdown",
   "metadata": {},
   "source": [
    "## Polymorphism"
   ]
  },
  {
   "cell_type": "markdown",
   "metadata": {},
   "source": [
    "##### Polymorphism is a core concept in Object-Oriented Programming that allows objects of different classes to be treated as objects of a common superclass. It provides a way to perform a single action in different forms. Polymorphism is typically achieved through method overriding and interfaces.    "
   ]
  },
  {
   "cell_type": "markdown",
   "metadata": {},
   "source": [
    "###  Method Overriding"
   ]
  },
  {
   "cell_type": "markdown",
   "metadata": {},
   "source": [
    "##### Method overriding allows a child class to provide a specific implementation of a method that is already  defined in its parent class."
   ]
  },
  {
   "cell_type": "code",
   "execution_count": 6,
   "metadata": {},
   "outputs": [
    {
     "name": "stdout",
     "output_type": "stream",
     "text": [
      "Woof\n",
      "Meow\n"
     ]
    }
   ],
   "source": [
    "# base class:\n",
    "class Animal:\n",
    "    def speak(self):\n",
    "        print(\"Sound of the animal\")\n",
    "        \n",
    "# Derived class 1 \n",
    "class Dog(Animal):\n",
    "    def speak(self):\n",
    "        print(\"Woof\")\n",
    "        \n",
    "# Derived class 2\n",
    "class cat(Animal):\n",
    "    def speak(self):\n",
    "        print(\"Meow\")\n",
    "        \n",
    "# Function that demonstrates polymorphism\n",
    "def make_sound(animal):\n",
    "    animal.speak()\n",
    "    \n",
    "cat1 = cat()\n",
    "dog1 = Dog()\n",
    "\n",
    "make_sound(dog1)\n",
    "make_sound(cat1)\n"
   ]
  },
  {
   "cell_type": "code",
   "execution_count": 11,
   "metadata": {},
   "outputs": [
    {
     "name": "stdout",
     "output_type": "stream",
     "text": [
      "Area of the circle is: 12.56\n",
      "Area of the rectangle is: 12\n"
     ]
    }
   ],
   "source": [
    "# Polymorphism with Functions and methods\n",
    "\n",
    "class Shape:\n",
    "    def area(self):\n",
    "        return \"Area of the shape\"\n",
    "\n",
    "class Rectangle(Shape):\n",
    "    def __init__(self, length, width):\n",
    "        self.length = length\n",
    "        self.width = width\n",
    "    \n",
    "    def area(self):\n",
    "        return self.length*self.width\n",
    "    \n",
    "class Circle(Shape):\n",
    "    def __init__(self,radius):\n",
    "        self.radius = radius\n",
    "        \n",
    "    def area(self):\n",
    "        return 3.14*self.radius**2\n",
    "\n",
    "def calc_area(object):\n",
    "    return object.area()\n",
    "        \n",
    "circle1 = Circle(2)\n",
    "rectangle1 = Rectangle(3,4)\n",
    "\n",
    "print(f\"Area of the circle is: {calc_area(circle1)}\")  # Output: 12.56\n",
    "print(f\"Area of the rectangle is: {calc_area(rectangle1)}\")  # Output: 12"
   ]
  },
  {
   "cell_type": "markdown",
   "metadata": {},
   "source": [
    "### Polymorphism with abstract base class (ABC)"
   ]
  },
  {
   "cell_type": "markdown",
   "metadata": {},
   "source": [
    "#####  Abstact Base Classes (ABC) are used to define common methods for a group of related objects. They can enforce that derived class implement particular methods, promoting consistency across different implementations."
   ]
  },
  {
   "cell_type": "code",
   "execution_count": 16,
   "metadata": {},
   "outputs": [
    {
     "name": "stdout",
     "output_type": "stream",
     "text": [
      "Car engine started\n",
      "Bike engine started\n"
     ]
    }
   ],
   "source": [
    "from abc import ABC,abstractmethod\n",
    "\n",
    "# Define abstract class\n",
    "class Vehicle(ABC):\n",
    "    @abstractmethod\n",
    "    def start_engine(self):\n",
    "        pass\n",
    "\n",
    "class Car(Vehicle):\n",
    "    def start_engine(self):\n",
    "        return \"Car engine started\"\n",
    "\n",
    "class Bike(Vehicle):\n",
    "    def start_engine(self):\n",
    "        return \"Bike engine started\"\n",
    "    \n",
    "def start_vehicle(vehicle):\n",
    "    return vehicle.start_engine()\n",
    "\n",
    "car1 = Car()\n",
    "bike1 = Bike()\n",
    "print(start_vehicle(car1))  # Output: Car engine started\n",
    "print(start_vehicle(bike1))  # Output: Bike engine started"
   ]
  },
  {
   "cell_type": "code",
   "execution_count": null,
   "metadata": {},
   "outputs": [],
   "source": []
  }
 ],
 "metadata": {
  "kernelspec": {
   "display_name": "Python 3",
   "language": "python",
   "name": "python3"
  },
  "language_info": {
   "codemirror_mode": {
    "name": "ipython",
    "version": 3
   },
   "file_extension": ".py",
   "mimetype": "text/x-python",
   "name": "python",
   "nbconvert_exporter": "python",
   "pygments_lexer": "ipython3",
   "version": "3.12.2"
  }
 },
 "nbformat": 4,
 "nbformat_minor": 2
}
