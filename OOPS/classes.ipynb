{
 "cells": [
  {
   "cell_type": "markdown",
   "metadata": {},
   "source": [
    "## Classes and Objects "
   ]
  },
  {
   "cell_type": "markdown",
   "metadata": {},
   "source": [
    "Object-Oriented Programming is a paradigm that uses \"object\" to design applications and computer programs. OOP allows for modelling real-world scenarios using classes and objects. This notebook basics of creating classes and objects, including instance variables and methods."
   ]
  },
  {
   "cell_type": "code",
   "execution_count": 1,
   "metadata": {},
   "outputs": [
    {
     "data": {
      "text/plain": [
       "__main__.car"
      ]
     },
     "execution_count": 1,
     "metadata": {},
     "output_type": "execute_result"
    }
   ],
   "source": [
    "''' A class is a blueprint for creating objects, Attributes, methods'''\n",
    "class car:\n",
    "    pass\n",
    "\n",
    "audi = car() # an instance of a class 'car' is created as 'audi'\n",
    "type(audi)"
   ]
  },
  {
   "cell_type": "code",
   "execution_count": null,
   "metadata": {},
   "outputs": [
    {
     "name": "stdout",
     "output_type": "stream",
     "text": [
      "tabby\n",
      "5\n",
      "Woof Woof\n"
     ]
    }
   ],
   "source": [
    "# Instance variable and Methods\n",
    "class dog:\n",
    "    # Constructor\n",
    "    def __init__(self,name,age):\n",
    "        self.name = name\n",
    "        self.age = age\n",
    "        # name and age are instance variables\n",
    "    def bark(self):\n",
    "        print(\"Woof Woof\")\n",
    "        # This bark method is an instance method, it is necessary to pass 'self' as an argument else error will occur\n",
    "        \n",
    "        \n",
    "# creating an object\n",
    "dog1 = dog('tabby',5)\n",
    "print(dog1.name)\n",
    "print(dog1.age)\n",
    "dog1.bark()"
   ]
  },
  {
   "cell_type": "code",
   "execution_count": 10,
   "metadata": {},
   "outputs": [
    {
     "name": "stdout",
     "output_type": "stream",
     "text": [
      "The balance of the current account is 1000\n",
      "Deposited 500 into the account. Current balance is 1500\n",
      "Debited 200 from the account. The current balance is 1300\n"
     ]
    }
   ],
   "source": [
    "# Modelling a bank account using classes\n",
    "class account:\n",
    "    def __init__(self, owner,type, balance=0):\n",
    "        self.owner = owner\n",
    "        self.type = type\n",
    "        self.balance = balance\n",
    "    \n",
    "    def checkBalance(self):\n",
    "        print(f\"The balance of the current account is {self.balance}\")\n",
    "        \n",
    "    def deposit(self,amount):\n",
    "        self.balance += amount\n",
    "        print(f\"Deposited {amount} into the account. Current balance is {self.balance}\")\n",
    "    \n",
    "    def withdraw (self,amount):\n",
    "        if amount > self.balance:\n",
    "            print(\"Insufficient funds\")\n",
    "        else:\n",
    "            self.balance -= amount\n",
    "            print(f\"Debited {amount} from the account. The current balance is {self.balance}\")\n",
    "        \n",
    "        \n",
    "acc1 = account('ansh','savings',1000)\n",
    "acc1.checkBalance()\n",
    "acc1.deposit(500)\n",
    "acc1.withdraw(200)\n"
   ]
  }
 ],
 "metadata": {
  "kernelspec": {
   "display_name": "Python 3",
   "language": "python",
   "name": "python3"
  },
  "language_info": {
   "codemirror_mode": {
    "name": "ipython",
    "version": 3
   },
   "file_extension": ".py",
   "mimetype": "text/x-python",
   "name": "python",
   "nbconvert_exporter": "python",
   "pygments_lexer": "ipython3",
   "version": "3.12.2"
  }
 },
 "nbformat": 4,
 "nbformat_minor": 2
}
