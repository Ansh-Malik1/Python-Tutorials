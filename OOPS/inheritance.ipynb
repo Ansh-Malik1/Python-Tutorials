{
 "cells": [
  {
   "cell_type": "markdown",
   "metadata": {},
   "source": [
    "## Inheritance in Python"
   ]
  },
  {
   "cell_type": "markdown",
   "metadata": {},
   "source": [
    "##### Inheritance is a fundamental concept in Object-Oriented Programming that allows a class to inherit attributes and methods from another class. This notebook coveers single level and multiple inheritance, demonstrating how to create and use them in python."
   ]
  },
  {
   "cell_type": "code",
   "execution_count": null,
   "metadata": {},
   "outputs": [
    {
     "name": "stdout",
     "output_type": "stream",
     "text": [
      "The person will drive petrol car of tata\n"
     ]
    }
   ],
   "source": [
    "\n",
    "# Inheritance Example\n",
    "\n",
    "# Single Inheritance\n",
    "# creating a parent class\n",
    "class car:\n",
    "    def __init__(self, brand, year, engineType):\n",
    "        self.brand = brand\n",
    "        self.year = year\n",
    "        self.engineType = engineType\n",
    "    def drive(self):\n",
    "        print (f\"The person will drive {self.engineType} car of {self.brand}\")\n",
    "        \n",
    "c1 = car('tata',2015,'petrol')\n",
    "c1.drive()"
   ]
  },
  {
   "cell_type": "code",
   "execution_count": 14,
   "metadata": {},
   "outputs": [
    {
     "name": "stdout",
     "output_type": "stream",
     "text": [
      "The person will drive electric car of tesla\n",
      "Does this car supports self driving : Yes\n"
     ]
    }
   ],
   "source": [
    "# creating child class that will inherit parent class\n",
    "class tesla(car):\n",
    "    def __init__(self, brand, year, engineType, is_selfDriving):\n",
    "        super().__init__(brand, year, engineType) # 'super' is used to invoke methods of parent class.\n",
    "        self.is_selfDriving = is_selfDriving\n",
    "    \n",
    "    def drive_new(self):\n",
    "        super().drive()\n",
    "        print(f\"Does this car supports self driving : {'Yes' if self.is_selfDriving else 'NO'}\")\n",
    "\n",
    "c2 = tesla('tesla',2023,'electric',True)\n",
    "c2.drive_new()"
   ]
  },
  {
   "cell_type": "code",
   "execution_count": 19,
   "metadata": {},
   "outputs": [
    {
     "name": "stdout",
     "output_type": "stream",
     "text": [
      "tabby says Woof! to ansh\n"
     ]
    }
   ],
   "source": [
    "# Multiple Inheritance\n",
    "\n",
    "## When a class inherits from more than one base class, it is known as multiple inheritance.\n",
    "\n",
    "# Base Class 1\n",
    "class animal:\n",
    "    def __init__(self,name):\n",
    "        self.name = name\n",
    "        \n",
    "    def speak(self):\n",
    "        print(\"subclass will be implementing this method.\")\n",
    "        \n",
    "# Base class 2\n",
    "class pet :\n",
    "    def __init__(self, owner):\n",
    "        self.owner = owner\n",
    "        \n",
    "# Derived class\n",
    "\n",
    "class dog(animal,pet):\n",
    "    def __init__(self, name,owner):\n",
    "        animal.__init__(self,name)\n",
    "        pet.__init__(self,owner)\n",
    "        \n",
    "    def speak(self):\n",
    "        print(f\"{self.name} says Woof! to {self.owner}\")\n",
    "        \n",
    "# Creating objects\n",
    "d1= dog('tabby','ansh')\n",
    "d1.speak()"
   ]
  },
  {
   "cell_type": "code",
   "execution_count": null,
   "metadata": {},
   "outputs": [],
   "source": []
  }
 ],
 "metadata": {
  "kernelspec": {
   "display_name": "Python 3",
   "language": "python",
   "name": "python3"
  },
  "language_info": {
   "codemirror_mode": {
    "name": "ipython",
    "version": 3
   },
   "file_extension": ".py",
   "mimetype": "text/x-python",
   "name": "python",
   "nbconvert_exporter": "python",
   "pygments_lexer": "ipython3",
   "version": "3.12.2"
  }
 },
 "nbformat": 4,
 "nbformat_minor": 2
}
